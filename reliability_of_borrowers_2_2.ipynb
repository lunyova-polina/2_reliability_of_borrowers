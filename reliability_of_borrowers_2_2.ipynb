{
 "cells": [
  {
   "cell_type": "markdown",
   "metadata": {},
   "source": [
    "# Исследование надёжности заёмщиков\n",
    "\n",
    "Заказчик — кредитный отдел банка. Нужно разобраться, влияет ли семейное положение и количество детей клиента на факт погашения кредита в срок. Входные данные от банка — статистика о платёжеспособности клиентов.\n",
    "\n",
    "Результаты исследования будут учтены при построении модели **кредитного скоринга** — специальной системы, которая оценивает способность потенциального заёмщика вернуть кредит банку."
   ]
  },
  {
   "cell_type": "markdown",
   "metadata": {},
   "source": [
    "# Описание данных   \n",
    "    \n",
    "* `children` — количество детей в семье   \n",
    "* `days_employed` — общий трудовой стаж в днях   \n",
    "* `dob_years` — возраст клиента в годах   \n",
    "* `education` — уровень образования клиента    \n",
    "* `education_id` — идентификатор уровня образования    \n",
    "* `family_status` — семейное положение    \n",
    "* `family_status_id` — идентификатор семейного положения   \n",
    "* `gender` — пол клиента    \n",
    "* `income_type` — тип занятости   \n",
    "* `debt` — имел ли задолженность по возврату кредитов   \n",
    "* `total_income` — ежемесячный доход   \n",
    "* `purpose` — цель получения кредита    "
   ]
  },
  {
   "cell_type": "markdown",
   "metadata": {},
   "source": [
    "## Предобработка данных"
   ]
  },
  {
   "cell_type": "code",
   "execution_count": 5,
   "metadata": {
    "scrolled": true
   },
   "outputs": [
    {
     "data": {
      "text/html": [
       "<div>\n",
       "<style scoped>\n",
       "    .dataframe tbody tr th:only-of-type {\n",
       "        vertical-align: middle;\n",
       "    }\n",
       "\n",
       "    .dataframe tbody tr th {\n",
       "        vertical-align: top;\n",
       "    }\n",
       "\n",
       "    .dataframe thead th {\n",
       "        text-align: right;\n",
       "    }\n",
       "</style>\n",
       "<table border=\"1\" class=\"dataframe\">\n",
       "  <thead>\n",
       "    <tr style=\"text-align: right;\">\n",
       "      <th></th>\n",
       "      <th>children</th>\n",
       "      <th>days_employed</th>\n",
       "      <th>dob_years</th>\n",
       "      <th>education</th>\n",
       "      <th>education_id</th>\n",
       "      <th>family_status</th>\n",
       "      <th>family_status_id</th>\n",
       "      <th>gender</th>\n",
       "      <th>income_type</th>\n",
       "      <th>debt</th>\n",
       "      <th>total_income</th>\n",
       "      <th>purpose</th>\n",
       "    </tr>\n",
       "  </thead>\n",
       "  <tbody>\n",
       "    <tr>\n",
       "      <td>0</td>\n",
       "      <td>1</td>\n",
       "      <td>-8437.673028</td>\n",
       "      <td>42</td>\n",
       "      <td>высшее</td>\n",
       "      <td>0</td>\n",
       "      <td>женат / замужем</td>\n",
       "      <td>0</td>\n",
       "      <td>F</td>\n",
       "      <td>сотрудник</td>\n",
       "      <td>0</td>\n",
       "      <td>253875.639453</td>\n",
       "      <td>покупка жилья</td>\n",
       "    </tr>\n",
       "    <tr>\n",
       "      <td>1</td>\n",
       "      <td>1</td>\n",
       "      <td>-4024.803754</td>\n",
       "      <td>36</td>\n",
       "      <td>среднее</td>\n",
       "      <td>1</td>\n",
       "      <td>женат / замужем</td>\n",
       "      <td>0</td>\n",
       "      <td>F</td>\n",
       "      <td>сотрудник</td>\n",
       "      <td>0</td>\n",
       "      <td>112080.014102</td>\n",
       "      <td>приобретение автомобиля</td>\n",
       "    </tr>\n",
       "    <tr>\n",
       "      <td>2</td>\n",
       "      <td>0</td>\n",
       "      <td>-5623.422610</td>\n",
       "      <td>33</td>\n",
       "      <td>Среднее</td>\n",
       "      <td>1</td>\n",
       "      <td>женат / замужем</td>\n",
       "      <td>0</td>\n",
       "      <td>M</td>\n",
       "      <td>сотрудник</td>\n",
       "      <td>0</td>\n",
       "      <td>145885.952297</td>\n",
       "      <td>покупка жилья</td>\n",
       "    </tr>\n",
       "    <tr>\n",
       "      <td>3</td>\n",
       "      <td>3</td>\n",
       "      <td>-4124.747207</td>\n",
       "      <td>32</td>\n",
       "      <td>среднее</td>\n",
       "      <td>1</td>\n",
       "      <td>женат / замужем</td>\n",
       "      <td>0</td>\n",
       "      <td>M</td>\n",
       "      <td>сотрудник</td>\n",
       "      <td>0</td>\n",
       "      <td>267628.550329</td>\n",
       "      <td>дополнительное образование</td>\n",
       "    </tr>\n",
       "    <tr>\n",
       "      <td>4</td>\n",
       "      <td>0</td>\n",
       "      <td>340266.072047</td>\n",
       "      <td>53</td>\n",
       "      <td>среднее</td>\n",
       "      <td>1</td>\n",
       "      <td>гражданский брак</td>\n",
       "      <td>1</td>\n",
       "      <td>F</td>\n",
       "      <td>пенсионер</td>\n",
       "      <td>0</td>\n",
       "      <td>158616.077870</td>\n",
       "      <td>сыграть свадьбу</td>\n",
       "    </tr>\n",
       "  </tbody>\n",
       "</table>\n",
       "</div>"
      ],
      "text/plain": [
       "   children  days_employed  dob_years education  education_id  \\\n",
       "0         1   -8437.673028         42    высшее             0   \n",
       "1         1   -4024.803754         36   среднее             1   \n",
       "2         0   -5623.422610         33   Среднее             1   \n",
       "3         3   -4124.747207         32   среднее             1   \n",
       "4         0  340266.072047         53   среднее             1   \n",
       "\n",
       "      family_status  family_status_id gender income_type  debt   total_income  \\\n",
       "0   женат / замужем                 0      F   сотрудник     0  253875.639453   \n",
       "1   женат / замужем                 0      F   сотрудник     0  112080.014102   \n",
       "2   женат / замужем                 0      M   сотрудник     0  145885.952297   \n",
       "3   женат / замужем                 0      M   сотрудник     0  267628.550329   \n",
       "4  гражданский брак                 1      F   пенсионер     0  158616.077870   \n",
       "\n",
       "                      purpose  \n",
       "0               покупка жилья  \n",
       "1     приобретение автомобиля  \n",
       "2               покупка жилья  \n",
       "3  дополнительное образование  \n",
       "4             сыграть свадьбу  "
      ]
     },
     "metadata": {},
     "output_type": "display_data"
    },
    {
     "name": "stdout",
     "output_type": "stream",
     "text": [
      "<class 'pandas.core.frame.DataFrame'>\n",
      "RangeIndex: 21525 entries, 0 to 21524\n",
      "Data columns (total 12 columns):\n",
      "children            21525 non-null int64\n",
      "days_employed       19351 non-null float64\n",
      "dob_years           21525 non-null int64\n",
      "education           21525 non-null object\n",
      "education_id        21525 non-null int64\n",
      "family_status       21525 non-null object\n",
      "family_status_id    21525 non-null int64\n",
      "gender              21525 non-null object\n",
      "income_type         21525 non-null object\n",
      "debt                21525 non-null int64\n",
      "total_income        19351 non-null float64\n",
      "purpose             21525 non-null object\n",
      "dtypes: float64(2), int64(5), object(5)\n",
      "memory usage: 2.0+ MB\n"
     ]
    },
    {
     "data": {
      "text/plain": [
       "None"
      ]
     },
     "metadata": {},
     "output_type": "display_data"
    },
    {
     "data": {
      "text/html": [
       "<div>\n",
       "<style scoped>\n",
       "    .dataframe tbody tr th:only-of-type {\n",
       "        vertical-align: middle;\n",
       "    }\n",
       "\n",
       "    .dataframe tbody tr th {\n",
       "        vertical-align: top;\n",
       "    }\n",
       "\n",
       "    .dataframe thead th {\n",
       "        text-align: right;\n",
       "    }\n",
       "</style>\n",
       "<table border=\"1\" class=\"dataframe\">\n",
       "  <thead>\n",
       "    <tr style=\"text-align: right;\">\n",
       "      <th></th>\n",
       "      <th>children</th>\n",
       "      <th>days_employed</th>\n",
       "      <th>dob_years</th>\n",
       "      <th>education_id</th>\n",
       "      <th>family_status_id</th>\n",
       "      <th>debt</th>\n",
       "      <th>total_income</th>\n",
       "    </tr>\n",
       "  </thead>\n",
       "  <tbody>\n",
       "    <tr>\n",
       "      <td>count</td>\n",
       "      <td>21525.000000</td>\n",
       "      <td>19351.000000</td>\n",
       "      <td>21525.000000</td>\n",
       "      <td>21525.000000</td>\n",
       "      <td>21525.000000</td>\n",
       "      <td>21525.000000</td>\n",
       "      <td>1.935100e+04</td>\n",
       "    </tr>\n",
       "    <tr>\n",
       "      <td>mean</td>\n",
       "      <td>0.538908</td>\n",
       "      <td>63046.497661</td>\n",
       "      <td>43.293380</td>\n",
       "      <td>0.817236</td>\n",
       "      <td>0.972544</td>\n",
       "      <td>0.080883</td>\n",
       "      <td>1.674223e+05</td>\n",
       "    </tr>\n",
       "    <tr>\n",
       "      <td>std</td>\n",
       "      <td>1.381587</td>\n",
       "      <td>140827.311974</td>\n",
       "      <td>12.574584</td>\n",
       "      <td>0.548138</td>\n",
       "      <td>1.420324</td>\n",
       "      <td>0.272661</td>\n",
       "      <td>1.029716e+05</td>\n",
       "    </tr>\n",
       "    <tr>\n",
       "      <td>min</td>\n",
       "      <td>-1.000000</td>\n",
       "      <td>-18388.949901</td>\n",
       "      <td>0.000000</td>\n",
       "      <td>0.000000</td>\n",
       "      <td>0.000000</td>\n",
       "      <td>0.000000</td>\n",
       "      <td>2.066726e+04</td>\n",
       "    </tr>\n",
       "    <tr>\n",
       "      <td>25%</td>\n",
       "      <td>0.000000</td>\n",
       "      <td>-2747.423625</td>\n",
       "      <td>33.000000</td>\n",
       "      <td>1.000000</td>\n",
       "      <td>0.000000</td>\n",
       "      <td>0.000000</td>\n",
       "      <td>1.030532e+05</td>\n",
       "    </tr>\n",
       "    <tr>\n",
       "      <td>50%</td>\n",
       "      <td>0.000000</td>\n",
       "      <td>-1203.369529</td>\n",
       "      <td>42.000000</td>\n",
       "      <td>1.000000</td>\n",
       "      <td>0.000000</td>\n",
       "      <td>0.000000</td>\n",
       "      <td>1.450179e+05</td>\n",
       "    </tr>\n",
       "    <tr>\n",
       "      <td>75%</td>\n",
       "      <td>1.000000</td>\n",
       "      <td>-291.095954</td>\n",
       "      <td>53.000000</td>\n",
       "      <td>1.000000</td>\n",
       "      <td>1.000000</td>\n",
       "      <td>0.000000</td>\n",
       "      <td>2.034351e+05</td>\n",
       "    </tr>\n",
       "    <tr>\n",
       "      <td>max</td>\n",
       "      <td>20.000000</td>\n",
       "      <td>401755.400475</td>\n",
       "      <td>75.000000</td>\n",
       "      <td>4.000000</td>\n",
       "      <td>4.000000</td>\n",
       "      <td>1.000000</td>\n",
       "      <td>2.265604e+06</td>\n",
       "    </tr>\n",
       "  </tbody>\n",
       "</table>\n",
       "</div>"
      ],
      "text/plain": [
       "           children  days_employed     dob_years  education_id  \\\n",
       "count  21525.000000   19351.000000  21525.000000  21525.000000   \n",
       "mean       0.538908   63046.497661     43.293380      0.817236   \n",
       "std        1.381587  140827.311974     12.574584      0.548138   \n",
       "min       -1.000000  -18388.949901      0.000000      0.000000   \n",
       "25%        0.000000   -2747.423625     33.000000      1.000000   \n",
       "50%        0.000000   -1203.369529     42.000000      1.000000   \n",
       "75%        1.000000    -291.095954     53.000000      1.000000   \n",
       "max       20.000000  401755.400475     75.000000      4.000000   \n",
       "\n",
       "       family_status_id          debt  total_income  \n",
       "count      21525.000000  21525.000000  1.935100e+04  \n",
       "mean           0.972544      0.080883  1.674223e+05  \n",
       "std            1.420324      0.272661  1.029716e+05  \n",
       "min            0.000000      0.000000  2.066726e+04  \n",
       "25%            0.000000      0.000000  1.030532e+05  \n",
       "50%            0.000000      0.000000  1.450179e+05  \n",
       "75%            1.000000      0.000000  2.034351e+05  \n",
       "max            4.000000      1.000000  2.265604e+06  "
      ]
     },
     "metadata": {},
     "output_type": "display_data"
    }
   ],
   "source": [
    "import pandas as pd\n",
    "df = pd.read_csv('/Users/polina_lunyova/Documents/It/projects/final_version/2_Предобработка_данных /data.csv')\n",
    "display(df.head())\n",
    "display(df.info())\n",
    "display(df.describe())"
   ]
  },
  {
   "cell_type": "markdown",
   "metadata": {},
   "source": [
    "**Вывод**   \n",
    "В таблице имеются необработанные данные и ошибки. Прежде чем приступать к проверке гипотез, необходимо привести данные к нормальному виду."
   ]
  },
  {
   "cell_type": "markdown",
   "metadata": {},
   "source": [
    "### Обработка пропусков"
   ]
  },
  {
   "cell_type": "code",
   "execution_count": 6,
   "metadata": {},
   "outputs": [
    {
     "data": {
      "text/plain": [
       "children            0\n",
       "days_employed       0\n",
       "dob_years           0\n",
       "education           0\n",
       "education_id        0\n",
       "family_status       0\n",
       "family_status_id    0\n",
       "gender              0\n",
       "income_type         0\n",
       "debt                0\n",
       "total_income        0\n",
       "purpose             0\n",
       "dtype: int64"
      ]
     },
     "execution_count": 6,
     "metadata": {},
     "output_type": "execute_result"
    }
   ],
   "source": [
    "# смотрим наличие пропусков \n",
    "df.isna().sum()\n",
    "\n",
    "# заполняем медианным значением пропуски в ежемесячном доходе(NaN)\n",
    "df['total_income'] = df['total_income'].fillna(df.groupby('income_type')['total_income'].transform('median'))\n",
    "\n",
    "# заполняем медианным значением пропуски в таблице с трудовым стажем\n",
    "df['days_employed'] = df['days_employed'].fillna(df.groupby('dob_years')['days_employed'].transform('median'))\n",
    "df.isna().sum()"
   ]
  },
  {
   "cell_type": "markdown",
   "metadata": {},
   "source": [
    "**Вывод**   \n",
    "В таблице обнаружены пропуски(NaN) в трудовом стаже и ежемесячном доходе. Возможно клиент предоставил не все данные. \n",
    "Пропуски заполнены медианным способом, т.к. удаление пропущенных строк приведет к искажению результатов."
   ]
  },
  {
   "cell_type": "markdown",
   "metadata": {},
   "source": [
    "### Замена типа данных"
   ]
  },
  {
   "cell_type": "code",
   "execution_count": 7,
   "metadata": {},
   "outputs": [
    {
     "name": "stdout",
     "output_type": "stream",
     "text": [
      "<class 'pandas.core.frame.DataFrame'>\n",
      "RangeIndex: 21525 entries, 0 to 21524\n",
      "Data columns (total 12 columns):\n",
      "children            21525 non-null int64\n",
      "days_employed       21525 non-null float64\n",
      "dob_years           21525 non-null int64\n",
      "education           21525 non-null object\n",
      "education_id        21525 non-null int64\n",
      "family_status       21525 non-null object\n",
      "family_status_id    21525 non-null int64\n",
      "gender              21525 non-null object\n",
      "income_type         21525 non-null object\n",
      "debt                21525 non-null int64\n",
      "total_income        21525 non-null float64\n",
      "purpose             21525 non-null object\n",
      "dtypes: float64(2), int64(5), object(5)\n",
      "memory usage: 2.0+ MB\n"
     ]
    }
   ],
   "source": [
    "df.info()\n",
    "\n",
    "# для изменения типа данных используем метод astype() т.к. с помощью этого метода можно перевести числа в целочисленные значение\n",
    "df['total_income'] = df['total_income'].round().astype('int64')\n",
    "df['days_employed'] = df['days_employed'].round().astype('int64')"
   ]
  },
  {
   "cell_type": "markdown",
   "metadata": {},
   "source": [
    "**Вывод**   \n",
    "Совершена замена типов данных таблицы ежемесячного дохода (total_income) и общего трудового стажа (days_employed) из вещественного в целочисленный."
   ]
  },
  {
   "cell_type": "markdown",
   "metadata": {},
   "source": [
    "### Обработка дубликатов"
   ]
  },
  {
   "cell_type": "code",
   "execution_count": 8,
   "metadata": {},
   "outputs": [
    {
     "data": {
      "text/plain": [
       " 0     14149\n",
       " 1      4818\n",
       " 2      2055\n",
       " 3       330\n",
       " 20       76\n",
       "-1        47\n",
       " 4        41\n",
       " 5         9\n",
       "Name: children, dtype: int64"
      ]
     },
     "metadata": {},
     "output_type": "display_data"
    },
    {
     "data": {
      "text/plain": [
       "-1421      111\n",
       "-1675       72\n",
       "-1602       71\n",
       "-1595       71\n",
       "-1296       70\n",
       "          ... \n",
       "-11220       1\n",
       " 360343      1\n",
       " 355300      1\n",
       " 394233      1\n",
       " 376840      1\n",
       "Name: days_employed, Length: 9068, dtype: int64"
      ]
     },
     "metadata": {},
     "output_type": "display_data"
    },
    {
     "data": {
      "text/plain": [
       "35    617\n",
       "40    609\n",
       "41    607\n",
       "34    603\n",
       "38    598\n",
       "42    597\n",
       "33    581\n",
       "39    573\n",
       "31    560\n",
       "36    555\n",
       "44    547\n",
       "29    545\n",
       "30    540\n",
       "48    538\n",
       "37    537\n",
       "50    514\n",
       "43    513\n",
       "32    510\n",
       "49    508\n",
       "28    503\n",
       "45    497\n",
       "27    493\n",
       "56    487\n",
       "52    484\n",
       "47    480\n",
       "54    479\n",
       "46    475\n",
       "58    461\n",
       "57    460\n",
       "53    459\n",
       "51    448\n",
       "59    444\n",
       "55    443\n",
       "26    408\n",
       "60    377\n",
       "25    357\n",
       "61    355\n",
       "62    352\n",
       "63    269\n",
       "64    265\n",
       "24    264\n",
       "23    254\n",
       "65    194\n",
       "66    183\n",
       "22    183\n",
       "67    167\n",
       "21    111\n",
       "0     101\n",
       "68     99\n",
       "69     85\n",
       "70     65\n",
       "71     58\n",
       "20     51\n",
       "72     33\n",
       "19     14\n",
       "73      8\n",
       "74      6\n",
       "75      1\n",
       "Name: dob_years, dtype: int64"
      ]
     },
     "metadata": {},
     "output_type": "display_data"
    },
    {
     "data": {
      "text/plain": [
       "среднее                15233\n",
       "высшее                  5260\n",
       "неоконченное высшее      744\n",
       "начальное                282\n",
       "ученая степень             6\n",
       "Name: education, dtype: int64"
      ]
     },
     "metadata": {},
     "output_type": "display_data"
    },
    {
     "data": {
      "text/plain": [
       "1    15233\n",
       "0     5260\n",
       "2      744\n",
       "3      282\n",
       "4        6\n",
       "Name: education_id, dtype: int64"
      ]
     },
     "metadata": {},
     "output_type": "display_data"
    },
    {
     "data": {
      "text/plain": [
       "женат / замужем          12380\n",
       "гражданский брак          4177\n",
       "Не женат / не замужем     2813\n",
       "в разводе                 1195\n",
       "вдовец / вдова             960\n",
       "Name: family_status, dtype: int64"
      ]
     },
     "metadata": {},
     "output_type": "display_data"
    },
    {
     "data": {
      "text/plain": [
       "0    12380\n",
       "1     4177\n",
       "4     2813\n",
       "3     1195\n",
       "2      960\n",
       "Name: family_status_id, dtype: int64"
      ]
     },
     "metadata": {},
     "output_type": "display_data"
    },
    {
     "data": {
      "text/plain": [
       "F      14236\n",
       "M       7288\n",
       "XNA        1\n",
       "Name: gender, dtype: int64"
      ]
     },
     "metadata": {},
     "output_type": "display_data"
    },
    {
     "data": {
      "text/plain": [
       "сотрудник          11119\n",
       "компаньон           5085\n",
       "пенсионер           3856\n",
       "госслужащий         1459\n",
       "предприниматель        2\n",
       "безработный            2\n",
       "студент                1\n",
       "в декрете              1\n",
       "Name: income_type, dtype: int64"
      ]
     },
     "metadata": {},
     "output_type": "display_data"
    },
    {
     "data": {
      "text/plain": [
       "0    19784\n",
       "1     1741\n",
       "Name: debt, dtype: int64"
      ]
     },
     "metadata": {},
     "output_type": "display_data"
    },
    {
     "data": {
      "text/plain": [
       "142594    1105\n",
       "172358     509\n",
       "118514     414\n",
       "150448     147\n",
       "163082       4\n",
       "          ... \n",
       "402526       1\n",
       "230490       1\n",
       "222294       1\n",
       "160852       1\n",
       "89635        1\n",
       "Name: total_income, Length: 18591, dtype: int64"
      ]
     },
     "metadata": {},
     "output_type": "display_data"
    },
    {
     "data": {
      "text/plain": [
       "свадьба                                   797\n",
       "на проведение свадьбы                     777\n",
       "сыграть свадьбу                           774\n",
       "операции с недвижимостью                  676\n",
       "покупка коммерческой недвижимости         664\n",
       "покупка жилья для сдачи                   653\n",
       "операции с жильем                         653\n",
       "операции с коммерческой недвижимостью     651\n",
       "жилье                                     647\n",
       "покупка жилья                             647\n",
       "покупка жилья для семьи                   641\n",
       "строительство собственной недвижимости    635\n",
       "недвижимость                              634\n",
       "операции со своей недвижимостью           630\n",
       "строительство жилой недвижимости          626\n",
       "покупка недвижимости                      624\n",
       "строительство недвижимости                620\n",
       "покупка своего жилья                      620\n",
       "ремонт жилью                              612\n",
       "покупка жилой недвижимости                607\n",
       "на покупку своего автомобиля              505\n",
       "заняться высшим образованием              496\n",
       "автомобиль                                495\n",
       "сделка с подержанным автомобилем          489\n",
       "свой автомобиль                           480\n",
       "на покупку подержанного автомобиля        479\n",
       "автомобили                                478\n",
       "на покупку автомобиля                     472\n",
       "дополнительное образование                462\n",
       "приобретение автомобиля                   462\n",
       "сделка с автомобилем                      455\n",
       "высшее образование                        453\n",
       "получение дополнительного образования     447\n",
       "образование                               447\n",
       "получение образования                     443\n",
       "профильное образование                    436\n",
       "получение высшего образования             426\n",
       "заняться образованием                     412\n",
       "Name: purpose, dtype: int64"
      ]
     },
     "metadata": {},
     "output_type": "display_data"
    },
    {
     "data": {
      "text/plain": [
       "0"
      ]
     },
     "execution_count": 8,
     "metadata": {},
     "output_type": "execute_result"
    }
   ],
   "source": [
    "df.head()\n",
    "df.duplicated().sum()\n",
    "\n",
    "# приведем все записи в стодбце \"education\" к нижнему регистру\n",
    "df['education'] = df['education'].str.lower()\n",
    "df['education'].value_counts()\n",
    "\n",
    "# смотрим уникальные значения по каждому столбцу\n",
    "for column in df:\n",
    "    display(df[column].value_counts())\n",
    "    \n",
    "# исправляем ошибки в столбце 'children'\n",
    "df['children'] = df['children'].replace(-1, 1)\n",
    "df['children'] = df['children'].replace(20, 2)\n",
    "df['children'].value_counts()\n",
    "\n",
    "df = df.drop_duplicates()\n",
    "df.duplicated().sum()"
   ]
  },
  {
   "cell_type": "markdown",
   "metadata": {},
   "source": [
    "**Вывод**   \n",
    "В данной таблице были найдены дубликаты методом duplicated().sum() и удалены с помошью drop_duplicates(). \n",
    "Исправлены ошибки в столбце с  количеством детей в семье (children) при помощи замены методом replace().\n",
    "Таблица с уровнем образования клиента (education) приведена к нижниму регистру.\n",
    "В столбце gender присутствует значение 'XNA', но его можно не изменять т.к. данный стобец в дальнейших расчетах использоваться не будет.\n",
    "Также в dob_years есть возраст '0', но этот столбец в расчетах также использоваться не будет."
   ]
  },
  {
   "cell_type": "markdown",
   "metadata": {},
   "source": [
    "## Лемматизация"
   ]
  },
  {
   "cell_type": "code",
   "execution_count": 9,
   "metadata": {},
   "outputs": [
    {
     "name": "stdout",
     "output_type": "stream",
     "text": [
      "недвижимость    10811\n",
      "автомобиль       4306\n",
      "образование      4013\n",
      "свадьба          2324\n",
      "Name: lemma_purpose, dtype: int64\n"
     ]
    },
    {
     "data": {
      "text/plain": [
       "21454"
      ]
     },
     "execution_count": 9,
     "metadata": {},
     "output_type": "execute_result"
    }
   ],
   "source": [
    "#леммитизируем столбец целей получения кредита\n",
    "from pymystem3 import Mystem\n",
    "m = Mystem()\n",
    "def lemmatization(row):\n",
    "    lemmas = m.lemmatize(row['purpose'])\n",
    "    if 'образование' in lemmas:\n",
    "        return 'образование'\n",
    "    if 'свадьба' in lemmas:\n",
    "        return 'свадьба'\n",
    "    if 'автомобиль' in lemmas:\n",
    "        return 'автомобиль'\n",
    "    if ('недвижимость' in lemmas) or ('жилье' in lemmas):\n",
    "        return 'недвижимость'\n",
    "df['lemma_purpose'] = df.apply(lemmatization, axis=1)\n",
    "\n",
    "#проверка получившихся столбцов с помощью леммитизации\n",
    "print(df['lemma_purpose'].value_counts())\n",
    "\n",
    "#проверяем совпадает ли сумма получившихся строк с изначальной\n",
    "df['lemma_purpose'].value_counts().sum()\n",
    "len(df['purpose'])"
   ]
  },
  {
   "cell_type": "markdown",
   "metadata": {},
   "source": [
    "**Вывод**  \n",
    "Для облегчения дальнейших расчетов была применена лемматизация и объединены цели получения кредита, записанные в разной форме, в общие строки."
   ]
  },
  {
   "cell_type": "markdown",
   "metadata": {},
   "source": [
    "## Категоризация данных"
   ]
  },
  {
   "cell_type": "code",
   "execution_count": 10,
   "metadata": {},
   "outputs": [
    {
     "data": {
      "text/html": [
       "<div>\n",
       "<style scoped>\n",
       "    .dataframe tbody tr th:only-of-type {\n",
       "        vertical-align: middle;\n",
       "    }\n",
       "\n",
       "    .dataframe tbody tr th {\n",
       "        vertical-align: top;\n",
       "    }\n",
       "\n",
       "    .dataframe thead th {\n",
       "        text-align: right;\n",
       "    }\n",
       "</style>\n",
       "<table border=\"1\" class=\"dataframe\">\n",
       "  <thead>\n",
       "    <tr style=\"text-align: right;\">\n",
       "      <th></th>\n",
       "      <th>children</th>\n",
       "      <th>days_employed</th>\n",
       "      <th>dob_years</th>\n",
       "      <th>education</th>\n",
       "      <th>education_id</th>\n",
       "      <th>family_status</th>\n",
       "      <th>family_status_id</th>\n",
       "      <th>gender</th>\n",
       "      <th>income_type</th>\n",
       "      <th>debt</th>\n",
       "      <th>total_income</th>\n",
       "      <th>purpose</th>\n",
       "      <th>lemma_purpose</th>\n",
       "      <th>total_group</th>\n",
       "    </tr>\n",
       "  </thead>\n",
       "  <tbody>\n",
       "    <tr>\n",
       "      <td>0</td>\n",
       "      <td>есть дети</td>\n",
       "      <td>-8438</td>\n",
       "      <td>42</td>\n",
       "      <td>высшее</td>\n",
       "      <td>0</td>\n",
       "      <td>женат / замужем</td>\n",
       "      <td>0</td>\n",
       "      <td>F</td>\n",
       "      <td>сотрудник</td>\n",
       "      <td>0</td>\n",
       "      <td>253876</td>\n",
       "      <td>покупка жилья</td>\n",
       "      <td>недвижимость</td>\n",
       "      <td>высокий доход</td>\n",
       "    </tr>\n",
       "    <tr>\n",
       "      <td>1</td>\n",
       "      <td>есть дети</td>\n",
       "      <td>-4025</td>\n",
       "      <td>36</td>\n",
       "      <td>среднее</td>\n",
       "      <td>1</td>\n",
       "      <td>женат / замужем</td>\n",
       "      <td>0</td>\n",
       "      <td>F</td>\n",
       "      <td>сотрудник</td>\n",
       "      <td>0</td>\n",
       "      <td>112080</td>\n",
       "      <td>приобретение автомобиля</td>\n",
       "      <td>автомобиль</td>\n",
       "      <td>низкий доход</td>\n",
       "    </tr>\n",
       "    <tr>\n",
       "      <td>2</td>\n",
       "      <td>без детей</td>\n",
       "      <td>-5623</td>\n",
       "      <td>33</td>\n",
       "      <td>среднее</td>\n",
       "      <td>1</td>\n",
       "      <td>женат / замужем</td>\n",
       "      <td>0</td>\n",
       "      <td>M</td>\n",
       "      <td>сотрудник</td>\n",
       "      <td>0</td>\n",
       "      <td>145886</td>\n",
       "      <td>покупка жилья</td>\n",
       "      <td>недвижимость</td>\n",
       "      <td>средний доход</td>\n",
       "    </tr>\n",
       "    <tr>\n",
       "      <td>3</td>\n",
       "      <td>есть дети</td>\n",
       "      <td>-4125</td>\n",
       "      <td>32</td>\n",
       "      <td>среднее</td>\n",
       "      <td>1</td>\n",
       "      <td>женат / замужем</td>\n",
       "      <td>0</td>\n",
       "      <td>M</td>\n",
       "      <td>сотрудник</td>\n",
       "      <td>0</td>\n",
       "      <td>267629</td>\n",
       "      <td>дополнительное образование</td>\n",
       "      <td>образование</td>\n",
       "      <td>высокий доход</td>\n",
       "    </tr>\n",
       "    <tr>\n",
       "      <td>4</td>\n",
       "      <td>без детей</td>\n",
       "      <td>340266</td>\n",
       "      <td>53</td>\n",
       "      <td>среднее</td>\n",
       "      <td>1</td>\n",
       "      <td>гражданский брак</td>\n",
       "      <td>1</td>\n",
       "      <td>F</td>\n",
       "      <td>пенсионер</td>\n",
       "      <td>0</td>\n",
       "      <td>158616</td>\n",
       "      <td>сыграть свадьбу</td>\n",
       "      <td>свадьба</td>\n",
       "      <td>средний доход</td>\n",
       "    </tr>\n",
       "  </tbody>\n",
       "</table>\n",
       "</div>"
      ],
      "text/plain": [
       "    children  days_employed  dob_years education  education_id  \\\n",
       "0  есть дети          -8438         42    высшее             0   \n",
       "1  есть дети          -4025         36   среднее             1   \n",
       "2  без детей          -5623         33   среднее             1   \n",
       "3  есть дети          -4125         32   среднее             1   \n",
       "4  без детей         340266         53   среднее             1   \n",
       "\n",
       "      family_status  family_status_id gender income_type  debt  total_income  \\\n",
       "0   женат / замужем                 0      F   сотрудник     0        253876   \n",
       "1   женат / замужем                 0      F   сотрудник     0        112080   \n",
       "2   женат / замужем                 0      M   сотрудник     0        145886   \n",
       "3   женат / замужем                 0      M   сотрудник     0        267629   \n",
       "4  гражданский брак                 1      F   пенсионер     0        158616   \n",
       "\n",
       "                      purpose lemma_purpose    total_group  \n",
       "0               покупка жилья  недвижимость  высокий доход  \n",
       "1     приобретение автомобиля    автомобиль   низкий доход  \n",
       "2               покупка жилья  недвижимость  средний доход  \n",
       "3  дополнительное образование   образование  высокий доход  \n",
       "4             сыграть свадьбу       свадьба  средний доход  "
      ]
     },
     "execution_count": 10,
     "metadata": {},
     "output_type": "execute_result"
    }
   ],
   "source": [
    "#создадим функцию с нужными параметрами для объединения данных\n",
    "def children_group(child):\n",
    "    if child == 0:\n",
    "        return 'без детей'\n",
    "    if 1 <= child <= 3:\n",
    "        return 'есть дети'\n",
    "    return 'многодетные'\n",
    "\n",
    "#создадим отдельный столбец с категориями \n",
    "df['children'] = df['children'].apply(children_group)\n",
    "\n",
    "#разделим данные о доходе на равные группы с помощью qcut()\n",
    "bin_labels_3 = ['низкий доход', 'средний доход', 'высокий доход']\n",
    "df['total_group'] = pd.qcut(df['total_income'], q=[0, 1/3, 2/3, 1], labels=bin_labels_3)\n",
    "df['total_group'].value_counts()\n",
    "df.head()"
   ]
  },
  {
   "cell_type": "markdown",
   "metadata": {},
   "source": [
    "В целях наилучшего восприятия информации, данные были сгруппированы с помощью категоризации. Для разделения данных на равные группы был использован метод qcut(). Низкий доход клиента состовляет от 119261 до 172358, средний доход от 20667 до 119261, высокий доход от 172358 до 2265604 т.р. в месяц."
   ]
  },
  {
   "cell_type": "markdown",
   "metadata": {},
   "source": [
    "## Проверка зависимости между наличием детей и возвратом кредита в срок"
   ]
  },
  {
   "cell_type": "code",
   "execution_count": 11,
   "metadata": {},
   "outputs": [
    {
     "data": {
      "text/html": [
       "<div>\n",
       "<style scoped>\n",
       "    .dataframe tbody tr th:only-of-type {\n",
       "        vertical-align: middle;\n",
       "    }\n",
       "\n",
       "    .dataframe tbody tr th {\n",
       "        vertical-align: top;\n",
       "    }\n",
       "\n",
       "    .dataframe thead th {\n",
       "        text-align: right;\n",
       "    }\n",
       "</style>\n",
       "<table border=\"1\" class=\"dataframe\">\n",
       "  <thead>\n",
       "    <tr style=\"text-align: right;\">\n",
       "      <th>debt</th>\n",
       "      <th>0</th>\n",
       "      <th>1</th>\n",
       "      <th>percent_1</th>\n",
       "    </tr>\n",
       "    <tr>\n",
       "      <th>children</th>\n",
       "      <th></th>\n",
       "      <th></th>\n",
       "      <th></th>\n",
       "    </tr>\n",
       "  </thead>\n",
       "  <tbody>\n",
       "    <tr>\n",
       "      <td>без детей</td>\n",
       "      <td>13028</td>\n",
       "      <td>1063</td>\n",
       "      <td>7.543822</td>\n",
       "    </tr>\n",
       "    <tr>\n",
       "      <td>есть дети</td>\n",
       "      <td>6639</td>\n",
       "      <td>674</td>\n",
       "      <td>9.216464</td>\n",
       "    </tr>\n",
       "    <tr>\n",
       "      <td>многодетные</td>\n",
       "      <td>46</td>\n",
       "      <td>4</td>\n",
       "      <td>8.000000</td>\n",
       "    </tr>\n",
       "  </tbody>\n",
       "</table>\n",
       "</div>"
      ],
      "text/plain": [
       "debt             0     1  percent_1\n",
       "children                           \n",
       "без детей    13028  1063   7.543822\n",
       "есть дети     6639   674   9.216464\n",
       "многодетные     46     4   8.000000"
      ]
     },
     "execution_count": 11,
     "metadata": {},
     "output_type": "execute_result"
    }
   ],
   "source": [
    "pivot_table_children = df.pivot_table(index='children', columns='debt', values='days_employed', aggfunc='count')\n",
    "pivot_table_children['percent_1'] = pivot_table_children[1] / (pivot_table_children[1] + pivot_table_children[0]) * 100\n",
    "pivot_table_children"
   ]
  },
  {
   "cell_type": "markdown",
   "metadata": {},
   "source": [
    "**Вывод**   \n",
    "Процент клиентов, у котрых есть дети, наиболее подвержены к задолженности по возврату кредита."
   ]
  },
  {
   "cell_type": "markdown",
   "metadata": {},
   "source": [
    "## Проверка зависимости между семейным положением и возвратом кредита в срок"
   ]
  },
  {
   "cell_type": "code",
   "execution_count": 12,
   "metadata": {},
   "outputs": [
    {
     "data": {
      "text/html": [
       "<div>\n",
       "<style scoped>\n",
       "    .dataframe tbody tr th:only-of-type {\n",
       "        vertical-align: middle;\n",
       "    }\n",
       "\n",
       "    .dataframe tbody tr th {\n",
       "        vertical-align: top;\n",
       "    }\n",
       "\n",
       "    .dataframe thead th {\n",
       "        text-align: right;\n",
       "    }\n",
       "</style>\n",
       "<table border=\"1\" class=\"dataframe\">\n",
       "  <thead>\n",
       "    <tr style=\"text-align: right;\">\n",
       "      <th>debt</th>\n",
       "      <th>0</th>\n",
       "      <th>1</th>\n",
       "      <th>percent_2</th>\n",
       "    </tr>\n",
       "    <tr>\n",
       "      <th>family_status</th>\n",
       "      <th></th>\n",
       "      <th></th>\n",
       "      <th></th>\n",
       "    </tr>\n",
       "  </thead>\n",
       "  <tbody>\n",
       "    <tr>\n",
       "      <td>Не женат / не замужем</td>\n",
       "      <td>2536</td>\n",
       "      <td>274</td>\n",
       "      <td>9.750890</td>\n",
       "    </tr>\n",
       "    <tr>\n",
       "      <td>в разводе</td>\n",
       "      <td>1110</td>\n",
       "      <td>85</td>\n",
       "      <td>7.112971</td>\n",
       "    </tr>\n",
       "    <tr>\n",
       "      <td>вдовец / вдова</td>\n",
       "      <td>896</td>\n",
       "      <td>63</td>\n",
       "      <td>6.569343</td>\n",
       "    </tr>\n",
       "    <tr>\n",
       "      <td>гражданский брак</td>\n",
       "      <td>3763</td>\n",
       "      <td>388</td>\n",
       "      <td>9.347145</td>\n",
       "    </tr>\n",
       "    <tr>\n",
       "      <td>женат / замужем</td>\n",
       "      <td>11408</td>\n",
       "      <td>931</td>\n",
       "      <td>7.545182</td>\n",
       "    </tr>\n",
       "  </tbody>\n",
       "</table>\n",
       "</div>"
      ],
      "text/plain": [
       "debt                       0    1  percent_2\n",
       "family_status                               \n",
       "Не женат / не замужем   2536  274   9.750890\n",
       "в разводе               1110   85   7.112971\n",
       "вдовец / вдова           896   63   6.569343\n",
       "гражданский брак        3763  388   9.347145\n",
       "женат / замужем        11408  931   7.545182"
      ]
     },
     "execution_count": 12,
     "metadata": {},
     "output_type": "execute_result"
    }
   ],
   "source": [
    "pivot_table_family_status = df.pivot_table(index='family_status', columns='debt', values='days_employed', aggfunc='count')\n",
    "pivot_table_family_status['percent_2'] = pivot_table_family_status[1] / (pivot_table_family_status[1] + pivot_table_family_status[0]) * 100\n",
    "pivot_table_family_status"
   ]
  },
  {
   "cell_type": "markdown",
   "metadata": {},
   "source": [
    "**Вывод**    \n",
    "Посмотрев на сводную таблицу, можно увидеть, что доля просроченых кредитов больше у людей, которые находятся в гражданском браке или не женаты. Чаще всего возращают кредиты вдовцы и вдовы."
   ]
  },
  {
   "cell_type": "markdown",
   "metadata": {},
   "source": [
    "## Проверка зависимости между уровнем дохода и возвратом кредита в срок"
   ]
  },
  {
   "cell_type": "code",
   "execution_count": 13,
   "metadata": {},
   "outputs": [
    {
     "data": {
      "text/html": [
       "<div>\n",
       "<style scoped>\n",
       "    .dataframe tbody tr th:only-of-type {\n",
       "        vertical-align: middle;\n",
       "    }\n",
       "\n",
       "    .dataframe tbody tr th {\n",
       "        vertical-align: top;\n",
       "    }\n",
       "\n",
       "    .dataframe thead th {\n",
       "        text-align: right;\n",
       "    }\n",
       "</style>\n",
       "<table border=\"1\" class=\"dataframe\">\n",
       "  <thead>\n",
       "    <tr style=\"text-align: right;\">\n",
       "      <th>debt</th>\n",
       "      <th>0</th>\n",
       "      <th>1</th>\n",
       "      <th>percent_3</th>\n",
       "    </tr>\n",
       "    <tr>\n",
       "      <th>total_group</th>\n",
       "      <th></th>\n",
       "      <th></th>\n",
       "      <th></th>\n",
       "    </tr>\n",
       "  </thead>\n",
       "  <tbody>\n",
       "    <tr>\n",
       "      <td>низкий доход</td>\n",
       "      <td>6571</td>\n",
       "      <td>581</td>\n",
       "      <td>8.123602</td>\n",
       "    </tr>\n",
       "    <tr>\n",
       "      <td>средний доход</td>\n",
       "      <td>6653</td>\n",
       "      <td>632</td>\n",
       "      <td>8.675360</td>\n",
       "    </tr>\n",
       "    <tr>\n",
       "      <td>высокий доход</td>\n",
       "      <td>6489</td>\n",
       "      <td>528</td>\n",
       "      <td>7.524583</td>\n",
       "    </tr>\n",
       "  </tbody>\n",
       "</table>\n",
       "</div>"
      ],
      "text/plain": [
       "debt              0    1  percent_3\n",
       "total_group                        \n",
       "низкий доход   6571  581   8.123602\n",
       "средний доход  6653  632   8.675360\n",
       "высокий доход  6489  528   7.524583"
      ]
     },
     "execution_count": 13,
     "metadata": {},
     "output_type": "execute_result"
    }
   ],
   "source": [
    "pivot_table_income = df.pivot_table(index='total_group', columns='debt', values='days_employed', aggfunc='count')\n",
    "pivot_table_income['percent_3'] = pivot_table_income[1] / (pivot_table_income[1] + pivot_table_income[0]) * 100\n",
    "pivot_table_income"
   ]
  },
  {
   "cell_type": "markdown",
   "metadata": {},
   "source": [
    "**Вывод**"
   ]
  },
  {
   "cell_type": "markdown",
   "metadata": {},
   "source": [
    "Посмотрев на таблицу, можно увидеть, что клиенты с низкой ( от 119261 до 172358 т.р.) и средней (от 20667 до 119261 т.р.) доходностью имеют наибольшую вероятность просрочить выплаты по кредиту. "
   ]
  },
  {
   "cell_type": "markdown",
   "metadata": {},
   "source": [
    "## Проверка влияния разных целей кредита на его возврат в срок\n"
   ]
  },
  {
   "cell_type": "code",
   "execution_count": 14,
   "metadata": {},
   "outputs": [
    {
     "data": {
      "text/html": [
       "<div>\n",
       "<style scoped>\n",
       "    .dataframe tbody tr th:only-of-type {\n",
       "        vertical-align: middle;\n",
       "    }\n",
       "\n",
       "    .dataframe tbody tr th {\n",
       "        vertical-align: top;\n",
       "    }\n",
       "\n",
       "    .dataframe thead th {\n",
       "        text-align: right;\n",
       "    }\n",
       "</style>\n",
       "<table border=\"1\" class=\"dataframe\">\n",
       "  <thead>\n",
       "    <tr style=\"text-align: right;\">\n",
       "      <th>debt</th>\n",
       "      <th>0</th>\n",
       "      <th>1</th>\n",
       "      <th>percent_4</th>\n",
       "    </tr>\n",
       "    <tr>\n",
       "      <th>lemma_purpose</th>\n",
       "      <th></th>\n",
       "      <th></th>\n",
       "      <th></th>\n",
       "    </tr>\n",
       "  </thead>\n",
       "  <tbody>\n",
       "    <tr>\n",
       "      <td>автомобиль</td>\n",
       "      <td>3903</td>\n",
       "      <td>403</td>\n",
       "      <td>9.359034</td>\n",
       "    </tr>\n",
       "    <tr>\n",
       "      <td>недвижимость</td>\n",
       "      <td>10029</td>\n",
       "      <td>782</td>\n",
       "      <td>7.233373</td>\n",
       "    </tr>\n",
       "    <tr>\n",
       "      <td>образование</td>\n",
       "      <td>3643</td>\n",
       "      <td>370</td>\n",
       "      <td>9.220035</td>\n",
       "    </tr>\n",
       "    <tr>\n",
       "      <td>свадьба</td>\n",
       "      <td>2138</td>\n",
       "      <td>186</td>\n",
       "      <td>8.003442</td>\n",
       "    </tr>\n",
       "  </tbody>\n",
       "</table>\n",
       "</div>"
      ],
      "text/plain": [
       "debt               0    1  percent_4\n",
       "lemma_purpose                       \n",
       "автомобиль      3903  403   9.359034\n",
       "недвижимость   10029  782   7.233373\n",
       "образование     3643  370   9.220035\n",
       "свадьба         2138  186   8.003442"
      ]
     },
     "execution_count": 14,
     "metadata": {},
     "output_type": "execute_result"
    }
   ],
   "source": [
    "pivot_table_purpose = df.pivot_table(index='lemma_purpose', columns='debt', values='days_employed', aggfunc='count')\n",
    "pivot_table_purpose['percent_4'] = pivot_table_purpose[1] / (pivot_table_purpose[1] + pivot_table_purpose[0]) * 100\n",
    "pivot_table_purpose"
   ]
  },
  {
   "cell_type": "markdown",
   "metadata": {},
   "source": [
    "**Вывод**   \n",
    "Клиенты, которые берут кредиты на автомобиль или образование, наиболее подвержены к задолженности по возврату кредита. "
   ]
  },
  {
   "cell_type": "markdown",
   "metadata": {},
   "source": [
    "## Общий вывод"
   ]
  },
  {
   "cell_type": "markdown",
   "metadata": {},
   "source": [
    "В ходе исследования был произведен анализ данных платёжеспособности клиентов, а также определено влияние семейного положения и количество детей клиента на факт погашения кредита в срок.    \n",
    "Были определены статусы клиента, наличие которых отрицательно влияет на платёжеспособность клиентов:\n",
    "1. Клиент имеет от одного до трех детей\n",
    "2. Клиент состоит в гражданском браке или не женат (не замужем)\n",
    "3. Клиент имеет средний и низкий доходы\n",
    "4. Клиент получает кредит на образование или автомобиль."
   ]
  }
 ],
 "metadata": {
  "ExecuteTimeLog": [
   {
    "duration": 1328,
    "start_time": "2021-12-07T14:59:26.187Z"
   },
   {
    "duration": 306,
    "start_time": "2021-12-07T14:59:50.427Z"
   },
   {
    "duration": 706,
    "start_time": "2021-12-07T15:00:30.457Z"
   },
   {
    "duration": 284,
    "start_time": "2021-12-07T15:02:17.742Z"
   },
   {
    "duration": 306,
    "start_time": "2021-12-07T15:02:20.027Z"
   },
   {
    "duration": 304,
    "start_time": "2021-12-07T15:02:22.147Z"
   },
   {
    "duration": 80,
    "start_time": "2021-12-07T15:02:44.397Z"
   },
   {
    "duration": 65,
    "start_time": "2021-12-07T15:03:09.689Z"
   },
   {
    "duration": 15,
    "start_time": "2021-12-07T15:18:17.744Z"
   },
   {
    "duration": 324,
    "start_time": "2021-12-07T16:19:10.757Z"
   },
   {
    "duration": 38,
    "start_time": "2021-12-07T16:19:27.327Z"
   },
   {
    "duration": 15,
    "start_time": "2021-12-07T16:19:57.677Z"
   },
   {
    "duration": 74,
    "start_time": "2021-12-07T16:25:06.168Z"
   },
   {
    "duration": 12,
    "start_time": "2021-12-07T16:25:06.245Z"
   },
   {
    "duration": 48,
    "start_time": "2021-12-07T16:28:55.087Z"
   },
   {
    "duration": 34,
    "start_time": "2021-12-07T16:33:29.947Z"
   },
   {
    "duration": 39,
    "start_time": "2021-12-07T16:33:35.098Z"
   },
   {
    "duration": 35,
    "start_time": "2021-12-07T17:05:11.576Z"
   },
   {
    "duration": 40,
    "start_time": "2021-12-07T17:05:15.958Z"
   },
   {
    "duration": 13,
    "start_time": "2021-12-07T17:05:24.537Z"
   },
   {
    "duration": 22,
    "start_time": "2021-12-07T17:06:47.157Z"
   },
   {
    "duration": 40,
    "start_time": "2021-12-07T17:08:46.647Z"
   },
   {
    "duration": 52,
    "start_time": "2021-12-07T17:09:31.067Z"
   },
   {
    "duration": 8142,
    "start_time": "2021-12-07T17:22:01.236Z"
   },
   {
    "duration": 48,
    "start_time": "2021-12-07T17:22:15.996Z"
   },
   {
    "duration": 18,
    "start_time": "2021-12-07T17:23:46.627Z"
   },
   {
    "duration": 47,
    "start_time": "2021-12-07T17:24:01.894Z"
   },
   {
    "duration": 16,
    "start_time": "2021-12-07T17:24:53.957Z"
   },
   {
    "duration": 16,
    "start_time": "2021-12-07T17:25:28.157Z"
   },
   {
    "duration": 7,
    "start_time": "2021-12-07T17:28:50.807Z"
   },
   {
    "duration": 14,
    "start_time": "2021-12-07T17:28:54.876Z"
   },
   {
    "duration": 300,
    "start_time": "2021-12-07T17:40:50.730Z"
   },
   {
    "duration": 19,
    "start_time": "2021-12-07T17:41:10.003Z"
   },
   {
    "duration": 18,
    "start_time": "2021-12-07T17:41:19.702Z"
   },
   {
    "duration": 9,
    "start_time": "2021-12-07T17:41:29.196Z"
   },
   {
    "duration": 17,
    "start_time": "2021-12-07T17:41:37.670Z"
   },
   {
    "duration": 16,
    "start_time": "2021-12-07T17:45:21.938Z"
   },
   {
    "duration": 25,
    "start_time": "2021-12-07T17:45:33.178Z"
   },
   {
    "duration": 31,
    "start_time": "2021-12-07T17:46:18.738Z"
   },
   {
    "duration": 21,
    "start_time": "2021-12-07T18:20:19.439Z"
   },
   {
    "duration": 28,
    "start_time": "2021-12-07T18:38:04.587Z"
   },
   {
    "duration": 20,
    "start_time": "2021-12-07T18:38:13.220Z"
   },
   {
    "duration": 21,
    "start_time": "2021-12-07T18:49:54.381Z"
   },
   {
    "duration": 22,
    "start_time": "2021-12-07T18:50:20.411Z"
   },
   {
    "duration": 21,
    "start_time": "2021-12-07T18:53:14.201Z"
   },
   {
    "duration": 35,
    "start_time": "2021-12-07T18:58:51.482Z"
   },
   {
    "duration": 468,
    "start_time": "2021-12-08T06:29:12.477Z"
   },
   {
    "duration": 846,
    "start_time": "2021-12-08T06:29:33.205Z"
   },
   {
    "duration": 38,
    "start_time": "2021-12-08T06:29:34.054Z"
   },
   {
    "duration": 41,
    "start_time": "2021-12-08T06:29:34.095Z"
   },
   {
    "duration": 17,
    "start_time": "2021-12-08T06:33:40.919Z"
   },
   {
    "duration": 377,
    "start_time": "2021-12-08T06:39:39.439Z"
   },
   {
    "duration": 381,
    "start_time": "2021-12-08T06:40:22.559Z"
   },
   {
    "duration": 116,
    "start_time": "2021-12-08T06:40:53.880Z"
   },
   {
    "duration": 151,
    "start_time": "2021-12-08T06:41:03.521Z"
   },
   {
    "duration": 340,
    "start_time": "2021-12-08T06:41:09.120Z"
   },
   {
    "duration": 298,
    "start_time": "2021-12-08T06:45:21.681Z"
   },
   {
    "duration": 324,
    "start_time": "2021-12-08T06:46:04.639Z"
   },
   {
    "duration": 3741,
    "start_time": "2021-12-08T06:46:43.239Z"
   },
   {
    "duration": 307,
    "start_time": "2021-12-08T06:47:02.248Z"
   },
   {
    "duration": 299,
    "start_time": "2021-12-08T06:47:37.920Z"
   },
   {
    "duration": 102,
    "start_time": "2021-12-08T06:57:56.840Z"
   },
   {
    "duration": 25,
    "start_time": "2021-12-08T06:58:07.959Z"
   },
   {
    "duration": 37,
    "start_time": "2021-12-08T06:58:34.119Z"
   },
   {
    "duration": 25,
    "start_time": "2021-12-08T06:58:55.519Z"
   },
   {
    "duration": 25,
    "start_time": "2021-12-08T06:59:07.840Z"
   },
   {
    "duration": 21,
    "start_time": "2021-12-08T07:00:02.648Z"
   },
   {
    "duration": 310,
    "start_time": "2021-12-08T07:00:41.840Z"
   },
   {
    "duration": 34,
    "start_time": "2021-12-08T07:00:50.880Z"
   },
   {
    "duration": 29,
    "start_time": "2021-12-08T07:00:58.401Z"
   },
   {
    "duration": 73,
    "start_time": "2021-12-08T07:01:12.319Z"
   },
   {
    "duration": 436,
    "start_time": "2021-12-08T07:02:11.159Z"
   },
   {
    "duration": 614,
    "start_time": "2021-12-08T07:03:48.600Z"
   },
   {
    "duration": 339,
    "start_time": "2021-12-08T07:04:36.009Z"
   },
   {
    "duration": 304,
    "start_time": "2021-12-08T07:08:33.745Z"
   },
   {
    "duration": 303,
    "start_time": "2021-12-08T07:13:20.440Z"
   },
   {
    "duration": 330,
    "start_time": "2021-12-08T07:13:47.920Z"
   },
   {
    "duration": 370,
    "start_time": "2021-12-08T07:16:20.000Z"
   },
   {
    "duration": 313,
    "start_time": "2021-12-08T07:16:27.146Z"
   },
   {
    "duration": 322,
    "start_time": "2021-12-08T07:16:37.959Z"
   },
   {
    "duration": 303,
    "start_time": "2021-12-08T07:17:24.760Z"
   },
   {
    "duration": 329,
    "start_time": "2021-12-08T07:17:40.393Z"
   },
   {
    "duration": 407,
    "start_time": "2021-12-08T07:17:49.488Z"
   },
   {
    "duration": 406,
    "start_time": "2021-12-08T07:18:00.898Z"
   },
   {
    "duration": 532,
    "start_time": "2021-12-08T07:21:13.760Z"
   },
   {
    "duration": 48,
    "start_time": "2021-12-08T07:21:58.960Z"
   },
   {
    "duration": 60,
    "start_time": "2021-12-08T07:22:12.168Z"
   },
   {
    "duration": 29,
    "start_time": "2021-12-08T07:22:39.280Z"
   },
   {
    "duration": 370,
    "start_time": "2021-12-08T07:35:58.760Z"
   },
   {
    "duration": 29,
    "start_time": "2021-12-08T07:36:46.802Z"
   },
   {
    "duration": 29,
    "start_time": "2021-12-08T07:38:19.161Z"
   },
   {
    "duration": 28,
    "start_time": "2021-12-08T07:38:42.641Z"
   },
   {
    "duration": 21,
    "start_time": "2021-12-08T07:38:56.321Z"
   },
   {
    "duration": 30,
    "start_time": "2021-12-08T07:39:03.081Z"
   },
   {
    "duration": 29,
    "start_time": "2021-12-08T07:41:02.681Z"
   },
   {
    "duration": 28,
    "start_time": "2021-12-08T07:44:25.761Z"
   },
   {
    "duration": 38,
    "start_time": "2021-12-08T07:44:36.162Z"
   },
   {
    "duration": 42,
    "start_time": "2021-12-08T07:44:58.281Z"
   },
   {
    "duration": 37,
    "start_time": "2021-12-08T07:45:40.976Z"
   },
   {
    "duration": 25,
    "start_time": "2021-12-08T07:46:17.042Z"
   },
   {
    "duration": 17,
    "start_time": "2021-12-08T07:46:30.760Z"
   },
   {
    "duration": 16,
    "start_time": "2021-12-08T07:47:09.401Z"
   },
   {
    "duration": 10,
    "start_time": "2021-12-08T07:51:44.441Z"
   },
   {
    "duration": 9,
    "start_time": "2021-12-08T08:03:10.677Z"
   },
   {
    "duration": 9,
    "start_time": "2021-12-08T08:03:37.599Z"
   },
   {
    "duration": 106,
    "start_time": "2021-12-08T08:04:25.521Z"
   },
   {
    "duration": 113,
    "start_time": "2021-12-08T08:05:08.641Z"
   },
   {
    "duration": 288,
    "start_time": "2021-12-08T08:05:23.759Z"
   },
   {
    "duration": 319,
    "start_time": "2021-12-08T08:06:36.481Z"
   },
   {
    "duration": 572,
    "start_time": "2021-12-08T08:06:41.360Z"
   },
   {
    "duration": 284,
    "start_time": "2021-12-08T08:06:46.768Z"
   },
   {
    "duration": 274,
    "start_time": "2021-12-08T08:25:27.113Z"
   },
   {
    "duration": 22,
    "start_time": "2021-12-08T08:38:05.615Z"
   },
   {
    "duration": 26,
    "start_time": "2021-12-08T08:40:27.175Z"
   },
   {
    "duration": 29,
    "start_time": "2021-12-08T08:40:36.095Z"
   },
   {
    "duration": 68,
    "start_time": "2021-12-08T08:41:11.252Z"
   },
   {
    "duration": 30,
    "start_time": "2021-12-08T08:41:11.322Z"
   },
   {
    "duration": 17,
    "start_time": "2021-12-08T08:41:11.356Z"
   },
   {
    "duration": 57,
    "start_time": "2021-12-08T08:41:11.376Z"
   },
   {
    "duration": 29,
    "start_time": "2021-12-08T08:41:24.024Z"
   },
   {
    "duration": 45,
    "start_time": "2021-12-08T08:42:30.707Z"
   },
   {
    "duration": 40,
    "start_time": "2021-12-08T08:43:07.694Z"
   },
   {
    "duration": 46,
    "start_time": "2021-12-08T08:43:34.246Z"
   },
   {
    "duration": 42,
    "start_time": "2021-12-08T08:47:11.013Z"
   },
   {
    "duration": 44,
    "start_time": "2021-12-08T08:48:19.270Z"
   },
   {
    "duration": 46,
    "start_time": "2021-12-08T08:48:32.130Z"
   },
   {
    "duration": 68,
    "start_time": "2021-12-08T08:49:31.739Z"
   },
   {
    "duration": 53,
    "start_time": "2021-12-08T08:50:09.653Z"
   },
   {
    "duration": 48,
    "start_time": "2021-12-08T08:50:14.420Z"
   },
   {
    "duration": 558,
    "start_time": "2021-12-08T12:55:01.170Z"
   },
   {
    "duration": 2183,
    "start_time": "2021-12-08T12:55:15.970Z"
   },
   {
    "duration": 703,
    "start_time": "2021-12-08T12:55:29.169Z"
   },
   {
    "duration": 27,
    "start_time": "2021-12-08T12:55:29.873Z"
   },
   {
    "duration": 13,
    "start_time": "2021-12-08T12:55:29.901Z"
   },
   {
    "duration": 31,
    "start_time": "2021-12-08T12:55:29.915Z"
   },
   {
    "duration": 33,
    "start_time": "2021-12-08T12:55:50.960Z"
   },
   {
    "duration": 32,
    "start_time": "2021-12-08T12:56:10.562Z"
   },
   {
    "duration": 58,
    "start_time": "2021-12-08T12:56:24.370Z"
   },
   {
    "duration": 32,
    "start_time": "2021-12-08T12:56:56.270Z"
   },
   {
    "duration": 33,
    "start_time": "2021-12-08T12:59:15.198Z"
   },
   {
    "duration": 72,
    "start_time": "2021-12-08T13:00:57.991Z"
   },
   {
    "duration": 127,
    "start_time": "2021-12-08T13:07:28.389Z"
   },
   {
    "duration": 105,
    "start_time": "2021-12-08T13:11:46.969Z"
   },
   {
    "duration": 111,
    "start_time": "2021-12-08T13:12:05.202Z"
   },
   {
    "duration": 74,
    "start_time": "2021-12-08T13:12:32.700Z"
   },
   {
    "duration": 102,
    "start_time": "2021-12-08T13:15:08.363Z"
   },
   {
    "duration": 102,
    "start_time": "2021-12-08T13:15:27.172Z"
   },
   {
    "duration": 84,
    "start_time": "2021-12-08T13:15:58.440Z"
   },
   {
    "duration": 83,
    "start_time": "2021-12-08T13:25:09.850Z"
   },
   {
    "duration": 118,
    "start_time": "2021-12-08T13:25:43.500Z"
   },
   {
    "duration": 92,
    "start_time": "2021-12-08T13:26:46.792Z"
   },
   {
    "duration": 102,
    "start_time": "2021-12-08T13:27:01.739Z"
   },
   {
    "duration": 130,
    "start_time": "2021-12-08T13:59:47.861Z"
   },
   {
    "duration": 117,
    "start_time": "2021-12-08T14:00:02.711Z"
   },
   {
    "duration": 118,
    "start_time": "2021-12-08T14:03:18.910Z"
   },
   {
    "duration": 665,
    "start_time": "2021-12-08T14:03:45.961Z"
   },
   {
    "duration": 4479,
    "start_time": "2021-12-08T14:04:35.404Z"
   },
   {
    "duration": -108,
    "start_time": "2021-12-08T14:06:20.447Z"
   },
   {
    "duration": 40,
    "start_time": "2021-12-08T14:10:25.221Z"
   },
   {
    "duration": 55,
    "start_time": "2021-12-08T14:10:28.662Z"
   },
   {
    "duration": 22,
    "start_time": "2021-12-08T14:10:28.719Z"
   },
   {
    "duration": 12,
    "start_time": "2021-12-08T14:10:28.742Z"
   },
   {
    "duration": 122,
    "start_time": "2021-12-08T14:10:28.756Z"
   },
   {
    "duration": 4853,
    "start_time": "2021-12-08T14:10:28.880Z"
   },
   {
    "duration": 4453,
    "start_time": "2021-12-08T14:12:12.531Z"
   },
   {
    "duration": 55,
    "start_time": "2021-12-08T14:12:19.908Z"
   },
   {
    "duration": 23,
    "start_time": "2021-12-08T14:12:19.965Z"
   },
   {
    "duration": 20,
    "start_time": "2021-12-08T14:12:19.989Z"
   },
   {
    "duration": 131,
    "start_time": "2021-12-08T14:12:20.011Z"
   },
   {
    "duration": 4375,
    "start_time": "2021-12-08T14:12:20.144Z"
   },
   {
    "duration": 4778,
    "start_time": "2021-12-08T14:12:42.093Z"
   },
   {
    "duration": 56,
    "start_time": "2021-12-08T14:12:47.202Z"
   },
   {
    "duration": 25,
    "start_time": "2021-12-08T14:12:47.260Z"
   },
   {
    "duration": 24,
    "start_time": "2021-12-08T14:12:47.287Z"
   },
   {
    "duration": 132,
    "start_time": "2021-12-08T14:12:47.313Z"
   },
   {
    "duration": 4708,
    "start_time": "2021-12-08T14:12:47.447Z"
   },
   {
    "duration": 4441,
    "start_time": "2021-12-08T14:14:38.041Z"
   },
   {
    "duration": 4471,
    "start_time": "2021-12-08T14:54:12.342Z"
   },
   {
    "duration": 4372,
    "start_time": "2021-12-08T14:54:37.816Z"
   },
   {
    "duration": 4566,
    "start_time": "2021-12-08T14:54:51.402Z"
   },
   {
    "duration": 5072,
    "start_time": "2021-12-08T14:55:02.874Z"
   },
   {
    "duration": 784,
    "start_time": "2021-12-08T21:38:07.377Z"
   },
   {
    "duration": 44,
    "start_time": "2021-12-08T21:38:08.165Z"
   },
   {
    "duration": 36,
    "start_time": "2021-12-08T21:38:08.213Z"
   },
   {
    "duration": 206,
    "start_time": "2021-12-08T21:38:08.253Z"
   },
   {
    "duration": 6645,
    "start_time": "2021-12-08T21:38:08.462Z"
   },
   {
    "duration": 178,
    "start_time": "2021-12-08T21:39:00.084Z"
   },
   {
    "duration": 155,
    "start_time": "2021-12-08T21:39:17.747Z"
   },
   {
    "duration": 163,
    "start_time": "2021-12-08T21:39:20.938Z"
   },
   {
    "duration": 189,
    "start_time": "2021-12-08T21:39:37.996Z"
   },
   {
    "duration": 162,
    "start_time": "2021-12-08T21:39:39.530Z"
   },
   {
    "duration": 359,
    "start_time": "2021-12-08T21:44:18.960Z"
   },
   {
    "duration": 270,
    "start_time": "2021-12-08T21:44:54.229Z"
   },
   {
    "duration": 268,
    "start_time": "2021-12-08T21:49:25.875Z"
   },
   {
    "duration": 871,
    "start_time": "2021-12-09T06:54:55.180Z"
   },
   {
    "duration": 40,
    "start_time": "2021-12-09T06:54:56.054Z"
   },
   {
    "duration": 33,
    "start_time": "2021-12-09T06:54:56.097Z"
   },
   {
    "duration": 211,
    "start_time": "2021-12-09T06:54:56.133Z"
   },
   {
    "duration": 5485,
    "start_time": "2021-12-09T06:54:56.346Z"
   },
   {
    "duration": 1437,
    "start_time": "2021-12-09T06:55:01.834Z"
   },
   {
    "duration": 208,
    "start_time": "2021-12-09T06:57:09.474Z"
   },
   {
    "duration": 313,
    "start_time": "2021-12-09T07:08:39.142Z"
   },
   {
    "duration": 11,
    "start_time": "2021-12-09T07:09:37.457Z"
   },
   {
    "duration": 26,
    "start_time": "2021-12-09T07:09:59.910Z"
   },
   {
    "duration": -150,
    "start_time": "2021-12-09T07:35:28.408Z"
   },
   {
    "duration": -151,
    "start_time": "2021-12-09T07:35:28.411Z"
   },
   {
    "duration": -152,
    "start_time": "2021-12-09T07:35:28.413Z"
   },
   {
    "duration": -152,
    "start_time": "2021-12-09T07:35:28.415Z"
   },
   {
    "duration": -153,
    "start_time": "2021-12-09T07:35:28.417Z"
   },
   {
    "duration": -154,
    "start_time": "2021-12-09T07:35:28.419Z"
   },
   {
    "duration": 8043,
    "start_time": "2021-12-09T07:39:28.505Z"
   },
   {
    "duration": -102,
    "start_time": "2021-12-09T07:42:27.510Z"
   },
   {
    "duration": -167,
    "start_time": "2021-12-09T07:43:06.421Z"
   },
   {
    "duration": -169,
    "start_time": "2021-12-09T07:43:06.424Z"
   },
   {
    "duration": -170,
    "start_time": "2021-12-09T07:43:06.426Z"
   },
   {
    "duration": -179,
    "start_time": "2021-12-09T07:43:06.436Z"
   },
   {
    "duration": -196,
    "start_time": "2021-12-09T07:43:06.454Z"
   },
   {
    "duration": -196,
    "start_time": "2021-12-09T07:43:06.456Z"
   },
   {
    "duration": 11258,
    "start_time": "2021-12-09T07:43:16.192Z"
   },
   {
    "duration": 178,
    "start_time": "2021-12-09T07:50:27.444Z"
   },
   {
    "duration": 7762,
    "start_time": "2021-12-09T07:51:01.451Z"
   },
   {
    "duration": 8320,
    "start_time": "2021-12-09T07:51:11.548Z"
   },
   {
    "duration": 8422,
    "start_time": "2021-12-09T07:51:45.884Z"
   },
   {
    "duration": 8204,
    "start_time": "2021-12-09T07:55:28.119Z"
   },
   {
    "duration": 71,
    "start_time": "2021-12-09T07:57:21.651Z"
   },
   {
    "duration": 32,
    "start_time": "2021-12-09T07:57:24.411Z"
   },
   {
    "duration": 19,
    "start_time": "2021-12-09T07:57:26.867Z"
   },
   {
    "duration": 156,
    "start_time": "2021-12-09T07:57:29.278Z"
   },
   {
    "duration": 5492,
    "start_time": "2021-12-09T07:57:32.163Z"
   },
   {
    "duration": 8338,
    "start_time": "2021-12-09T07:57:37.658Z"
   },
   {
    "duration": 8272,
    "start_time": "2021-12-09T08:01:19.956Z"
   },
   {
    "duration": 7523,
    "start_time": "2021-12-09T08:04:14.078Z"
   },
   {
    "duration": 8717,
    "start_time": "2021-12-09T08:05:00.309Z"
   },
   {
    "duration": 8460,
    "start_time": "2021-12-09T08:09:18.451Z"
   },
   {
    "duration": 73,
    "start_time": "2021-12-09T08:11:49.172Z"
   },
   {
    "duration": 31,
    "start_time": "2021-12-09T08:11:49.247Z"
   },
   {
    "duration": 38,
    "start_time": "2021-12-09T08:11:49.281Z"
   },
   {
    "duration": 170,
    "start_time": "2021-12-09T08:11:49.321Z"
   },
   {
    "duration": 6013,
    "start_time": "2021-12-09T08:11:49.494Z"
   },
   {
    "duration": -128,
    "start_time": "2021-12-09T08:12:04.756Z"
   },
   {
    "duration": 9187,
    "start_time": "2021-12-09T08:12:46.121Z"
   },
   {
    "duration": 8116,
    "start_time": "2021-12-09T10:04:46.247Z"
   },
   {
    "duration": -32,
    "start_time": "2021-12-09T10:06:40.035Z"
   },
   {
    "duration": 10251,
    "start_time": "2021-12-09T10:06:45.507Z"
   },
   {
    "duration": 10980,
    "start_time": "2021-12-09T10:08:37.036Z"
   },
   {
    "duration": 330,
    "start_time": "2021-12-09T10:14:02.023Z"
   },
   {
    "duration": 385,
    "start_time": "2021-12-09T10:15:26.914Z"
   },
   {
    "duration": 315,
    "start_time": "2021-12-09T10:15:35.352Z"
   },
   {
    "duration": 720,
    "start_time": "2021-12-09T10:16:37.836Z"
   },
   {
    "duration": 386,
    "start_time": "2021-12-09T10:16:41.636Z"
   },
   {
    "duration": 8304,
    "start_time": "2021-12-09T10:18:05.087Z"
   },
   {
    "duration": 1960,
    "start_time": "2021-12-09T10:18:36.541Z"
   },
   {
    "duration": 1478,
    "start_time": "2021-12-09T10:18:49.572Z"
   },
   {
    "duration": 1479,
    "start_time": "2021-12-09T10:19:00.275Z"
   },
   {
    "duration": 1525,
    "start_time": "2021-12-09T10:19:55.534Z"
   },
   {
    "duration": 1894,
    "start_time": "2021-12-09T10:20:09.595Z"
   },
   {
    "duration": 1443,
    "start_time": "2021-12-09T10:20:24.764Z"
   },
   {
    "duration": 1433,
    "start_time": "2021-12-09T10:20:30.262Z"
   },
   {
    "duration": 1469,
    "start_time": "2021-12-09T10:20:41.982Z"
   },
   {
    "duration": 616,
    "start_time": "2021-12-09T10:21:31.343Z"
   },
   {
    "duration": 534,
    "start_time": "2021-12-09T10:21:43.945Z"
   },
   {
    "duration": 576,
    "start_time": "2021-12-09T10:23:55.634Z"
   },
   {
    "duration": 616,
    "start_time": "2021-12-09T10:24:05.978Z"
   },
   {
    "duration": 554,
    "start_time": "2021-12-09T10:24:09.668Z"
   },
   {
    "duration": 1434,
    "start_time": "2021-12-09T10:25:52.393Z"
   },
   {
    "duration": 1473,
    "start_time": "2021-12-09T10:26:25.614Z"
   },
   {
    "duration": 1613,
    "start_time": "2021-12-09T10:26:39.983Z"
   },
   {
    "duration": 547,
    "start_time": "2021-12-09T10:26:47.972Z"
   },
   {
    "duration": 1783,
    "start_time": "2021-12-09T10:26:58.910Z"
   },
   {
    "duration": 389,
    "start_time": "2021-12-09T10:27:15.112Z"
   },
   {
    "duration": 328,
    "start_time": "2021-12-09T10:27:26.007Z"
   },
   {
    "duration": 305,
    "start_time": "2021-12-09T10:27:39.616Z"
   },
   {
    "duration": 302,
    "start_time": "2021-12-09T10:27:46.435Z"
   },
   {
    "duration": 337,
    "start_time": "2021-12-09T10:27:51.402Z"
   },
   {
    "duration": 518,
    "start_time": "2021-12-09T10:28:03.362Z"
   },
   {
    "duration": 538,
    "start_time": "2021-12-09T10:28:23.436Z"
   },
   {
    "duration": 557,
    "start_time": "2021-12-09T10:30:04.833Z"
   },
   {
    "duration": 880,
    "start_time": "2021-12-09T10:30:07.053Z"
   },
   {
    "duration": 567,
    "start_time": "2021-12-09T10:31:01.922Z"
   },
   {
    "duration": 539,
    "start_time": "2021-12-09T10:31:10.238Z"
   },
   {
    "duration": 536,
    "start_time": "2021-12-09T10:32:10.954Z"
   },
   {
    "duration": 1257,
    "start_time": "2021-12-09T10:32:35.244Z"
   },
   {
    "duration": 1828,
    "start_time": "2021-12-09T10:32:50.722Z"
   },
   {
    "duration": 1476,
    "start_time": "2021-12-09T10:35:37.253Z"
   },
   {
    "duration": 3041,
    "start_time": "2021-12-09T10:35:50.968Z"
   },
   {
    "duration": 2027,
    "start_time": "2021-12-09T10:36:07.445Z"
   },
   {
    "duration": 194,
    "start_time": "2021-12-09T10:36:37.953Z"
   },
   {
    "duration": 1802,
    "start_time": "2021-12-09T10:36:55.484Z"
   },
   {
    "duration": 42,
    "start_time": "2021-12-09T10:37:11.076Z"
   },
   {
    "duration": 33,
    "start_time": "2021-12-09T10:37:52.862Z"
   },
   {
    "duration": 14,
    "start_time": "2021-12-09T10:38:06.414Z"
   },
   {
    "duration": 16,
    "start_time": "2021-12-09T10:38:52.725Z"
   },
   {
    "duration": 25,
    "start_time": "2021-12-09T10:39:50.859Z"
   },
   {
    "duration": 15,
    "start_time": "2021-12-09T10:40:07.029Z"
   },
   {
    "duration": 327,
    "start_time": "2021-12-09T10:40:12.942Z"
   },
   {
    "duration": 30,
    "start_time": "2021-12-09T10:40:25.908Z"
   },
   {
    "duration": 30,
    "start_time": "2021-12-09T10:40:35.704Z"
   },
   {
    "duration": 1482,
    "start_time": "2021-12-09T10:41:01.503Z"
   },
   {
    "duration": 1441,
    "start_time": "2021-12-09T10:41:19.325Z"
   },
   {
    "duration": 1561,
    "start_time": "2021-12-09T10:41:23.472Z"
   },
   {
    "duration": 1461,
    "start_time": "2021-12-09T10:42:12.555Z"
   },
   {
    "duration": 1568,
    "start_time": "2021-12-09T10:42:23.823Z"
   },
   {
    "duration": 2163,
    "start_time": "2021-12-09T10:42:43.712Z"
   },
   {
    "duration": 23,
    "start_time": "2021-12-09T10:42:54.408Z"
   },
   {
    "duration": 24,
    "start_time": "2021-12-09T10:43:45.524Z"
   },
   {
    "duration": 14,
    "start_time": "2021-12-09T10:44:01.363Z"
   },
   {
    "duration": 15,
    "start_time": "2021-12-09T10:44:03.892Z"
   },
   {
    "duration": 23,
    "start_time": "2021-12-09T10:44:39.332Z"
   },
   {
    "duration": 25,
    "start_time": "2021-12-09T10:44:52.070Z"
   },
   {
    "duration": 2172,
    "start_time": "2021-12-09T10:45:04.934Z"
   },
   {
    "duration": 1551,
    "start_time": "2021-12-09T10:45:32.132Z"
   },
   {
    "duration": 1551,
    "start_time": "2021-12-09T10:46:31.492Z"
   },
   {
    "duration": 23,
    "start_time": "2021-12-09T10:46:47.829Z"
   },
   {
    "duration": 15,
    "start_time": "2021-12-09T10:47:01.898Z"
   },
   {
    "duration": 14,
    "start_time": "2021-12-09T10:47:07.773Z"
   },
   {
    "duration": 15,
    "start_time": "2021-12-09T10:47:10.845Z"
   },
   {
    "duration": 21,
    "start_time": "2021-12-09T10:47:46.532Z"
   },
   {
    "duration": 92,
    "start_time": "2021-12-09T10:48:09.995Z"
   },
   {
    "duration": 55,
    "start_time": "2021-12-09T10:48:10.090Z"
   },
   {
    "duration": 25,
    "start_time": "2021-12-09T10:48:10.149Z"
   },
   {
    "duration": 198,
    "start_time": "2021-12-09T10:48:10.177Z"
   },
   {
    "duration": 6485,
    "start_time": "2021-12-09T10:48:10.378Z"
   },
   {
    "duration": 32,
    "start_time": "2021-12-09T10:48:16.866Z"
   },
   {
    "duration": 18,
    "start_time": "2021-12-09T10:48:16.900Z"
   },
   {
    "duration": 5,
    "start_time": "2021-12-09T10:48:16.920Z"
   },
   {
    "duration": 5,
    "start_time": "2021-12-09T10:48:16.929Z"
   },
   {
    "duration": 6,
    "start_time": "2021-12-09T10:48:16.937Z"
   },
   {
    "duration": 1521,
    "start_time": "2021-12-09T10:48:34.978Z"
   },
   {
    "duration": 84,
    "start_time": "2021-12-09T10:48:41.563Z"
   },
   {
    "duration": 32,
    "start_time": "2021-12-09T10:48:41.650Z"
   },
   {
    "duration": 38,
    "start_time": "2021-12-09T10:48:41.686Z"
   },
   {
    "duration": 206,
    "start_time": "2021-12-09T10:48:41.729Z"
   },
   {
    "duration": 6424,
    "start_time": "2021-12-09T10:48:41.939Z"
   },
   {
    "duration": 32,
    "start_time": "2021-12-09T10:48:48.365Z"
   },
   {
    "duration": 17,
    "start_time": "2021-12-09T10:48:48.400Z"
   },
   {
    "duration": 5,
    "start_time": "2021-12-09T10:48:48.420Z"
   },
   {
    "duration": 9,
    "start_time": "2021-12-09T10:48:48.439Z"
   },
   {
    "duration": 6,
    "start_time": "2021-12-09T10:48:48.451Z"
   },
   {
    "duration": 318,
    "start_time": "2021-12-09T10:58:53.404Z"
   },
   {
    "duration": 404,
    "start_time": "2021-12-09T10:59:12.482Z"
   },
   {
    "duration": 24,
    "start_time": "2021-12-09T11:00:29.204Z"
   },
   {
    "duration": 325,
    "start_time": "2021-12-09T11:02:34.445Z"
   },
   {
    "duration": 35,
    "start_time": "2021-12-09T11:08:38.235Z"
   },
   {
    "duration": 28,
    "start_time": "2021-12-09T11:08:57.278Z"
   },
   {
    "duration": 30,
    "start_time": "2021-12-09T11:09:31.849Z"
   },
   {
    "duration": 328,
    "start_time": "2021-12-09T11:10:38.043Z"
   },
   {
    "duration": 28,
    "start_time": "2021-12-09T11:10:43.419Z"
   },
   {
    "duration": 115,
    "start_time": "2021-12-09T11:20:29.117Z"
   },
   {
    "duration": 26,
    "start_time": "2021-12-09T11:21:50.240Z"
   },
   {
    "duration": 27,
    "start_time": "2021-12-09T11:21:59.839Z"
   },
   {
    "duration": 27,
    "start_time": "2021-12-09T11:22:09.199Z"
   },
   {
    "duration": 27,
    "start_time": "2021-12-09T11:22:19.654Z"
   },
   {
    "duration": 409,
    "start_time": "2021-12-09T11:25:07.554Z"
   },
   {
    "duration": 365,
    "start_time": "2021-12-09T11:25:21.853Z"
   },
   {
    "duration": 28,
    "start_time": "2021-12-09T11:26:02.991Z"
   },
   {
    "duration": 37,
    "start_time": "2021-12-09T11:28:08.347Z"
   },
   {
    "duration": 28,
    "start_time": "2021-12-09T11:28:37.298Z"
   },
   {
    "duration": 28,
    "start_time": "2021-12-09T11:28:44.963Z"
   },
   {
    "duration": 26,
    "start_time": "2021-12-09T11:31:59.934Z"
   },
   {
    "duration": 28,
    "start_time": "2021-12-09T11:32:31.619Z"
   },
   {
    "duration": 33,
    "start_time": "2021-12-09T11:32:37.300Z"
   },
   {
    "duration": 27,
    "start_time": "2021-12-09T11:32:44.153Z"
   },
   {
    "duration": 29,
    "start_time": "2021-12-09T11:32:54.460Z"
   },
   {
    "duration": 6036,
    "start_time": "2021-12-09T11:33:32.965Z"
   },
   {
    "duration": 30,
    "start_time": "2021-12-09T11:33:49.648Z"
   },
   {
    "duration": 26,
    "start_time": "2021-12-09T11:34:20.198Z"
   },
   {
    "duration": 71,
    "start_time": "2021-12-09T11:48:34.192Z"
   },
   {
    "duration": 32,
    "start_time": "2021-12-09T11:48:34.266Z"
   },
   {
    "duration": 32,
    "start_time": "2021-12-09T11:48:34.301Z"
   },
   {
    "duration": 222,
    "start_time": "2021-12-09T11:48:34.337Z"
   },
   {
    "duration": 5657,
    "start_time": "2021-12-09T11:48:34.562Z"
   },
   {
    "duration": 47,
    "start_time": "2021-12-09T11:48:40.223Z"
   },
   {
    "duration": 72,
    "start_time": "2021-12-09T11:48:40.273Z"
   },
   {
    "duration": 25,
    "start_time": "2021-12-09T11:48:40.348Z"
   },
   {
    "duration": 52,
    "start_time": "2021-12-09T11:48:40.377Z"
   },
   {
    "duration": 26,
    "start_time": "2021-12-09T11:48:40.432Z"
   },
   {
    "duration": 77,
    "start_time": "2021-12-09T11:48:49.628Z"
   },
   {
    "duration": 68,
    "start_time": "2021-12-09T11:49:08.670Z"
   },
   {
    "duration": 77,
    "start_time": "2021-12-09T11:49:15.352Z"
   },
   {
    "duration": 36,
    "start_time": "2021-12-09T12:16:25.882Z"
   },
   {
    "duration": 32,
    "start_time": "2021-12-09T12:17:15.985Z"
   },
   {
    "duration": 50,
    "start_time": "2021-12-09T12:18:54.127Z"
   },
   {
    "duration": 317,
    "start_time": "2021-12-09T12:19:13.394Z"
   },
   {
    "duration": 316,
    "start_time": "2021-12-09T12:19:30.790Z"
   },
   {
    "duration": 53,
    "start_time": "2021-12-09T12:19:37.737Z"
   },
   {
    "duration": 318,
    "start_time": "2021-12-09T12:20:15.404Z"
   },
   {
    "duration": 31,
    "start_time": "2021-12-09T12:20:21.438Z"
   },
   {
    "duration": 30,
    "start_time": "2021-12-09T12:23:30.834Z"
   },
   {
    "duration": 164,
    "start_time": "2021-12-09T15:30:09.214Z"
   },
   {
    "duration": 176,
    "start_time": "2021-12-09T15:30:11.715Z"
   },
   {
    "duration": 1203,
    "start_time": "2021-12-09T15:34:42.573Z"
   },
   {
    "duration": 722,
    "start_time": "2021-12-09T15:34:56.003Z"
   },
   {
    "duration": 596,
    "start_time": "2021-12-09T15:35:05.130Z"
   },
   {
    "duration": 239,
    "start_time": "2021-12-09T15:35:14.333Z"
   },
   {
    "duration": 786,
    "start_time": "2021-12-09T15:35:41.129Z"
   },
   {
    "duration": 169,
    "start_time": "2021-12-09T15:35:50.413Z"
   },
   {
    "duration": 152,
    "start_time": "2021-12-09T15:40:04.240Z"
   },
   {
    "duration": 184,
    "start_time": "2021-12-09T15:40:48.308Z"
   },
   {
    "duration": 183,
    "start_time": "2021-12-09T15:40:57.997Z"
   },
   {
    "duration": 80,
    "start_time": "2021-12-09T15:41:26.572Z"
   },
   {
    "duration": 30,
    "start_time": "2021-12-09T15:41:26.654Z"
   },
   {
    "duration": 34,
    "start_time": "2021-12-09T15:41:26.687Z"
   },
   {
    "duration": 176,
    "start_time": "2021-12-09T15:41:26.724Z"
   },
   {
    "duration": 5676,
    "start_time": "2021-12-09T15:41:26.903Z"
   },
   {
    "duration": 46,
    "start_time": "2021-12-09T15:41:32.581Z"
   },
   {
    "duration": 31,
    "start_time": "2021-12-09T15:41:32.630Z"
   },
   {
    "duration": 52,
    "start_time": "2021-12-09T15:41:32.665Z"
   },
   {
    "duration": 26,
    "start_time": "2021-12-09T15:41:32.720Z"
   },
   {
    "duration": 27,
    "start_time": "2021-12-09T15:41:32.749Z"
   },
   {
    "duration": 84,
    "start_time": "2021-12-09T15:41:38.023Z"
   },
   {
    "duration": 31,
    "start_time": "2021-12-09T15:41:41.726Z"
   },
   {
    "duration": 19,
    "start_time": "2021-12-09T15:41:45.192Z"
   },
   {
    "duration": 20,
    "start_time": "2021-12-09T15:41:50.781Z"
   },
   {
    "duration": 158,
    "start_time": "2021-12-09T15:41:55.965Z"
   },
   {
    "duration": 147,
    "start_time": "2021-12-09T15:42:02.741Z"
   },
   {
    "duration": 8960,
    "start_time": "2021-12-09T15:44:54.585Z"
   },
   {
    "duration": 186,
    "start_time": "2021-12-09T15:45:17.034Z"
   },
   {
    "duration": 611,
    "start_time": "2021-12-09T17:47:01.554Z"
   },
   {
    "duration": 21,
    "start_time": "2021-12-09T17:47:02.167Z"
   },
   {
    "duration": 13,
    "start_time": "2021-12-09T17:47:02.189Z"
   },
   {
    "duration": 340,
    "start_time": "2021-12-09T17:47:02.203Z"
   },
   {
    "duration": 9,
    "start_time": "2021-12-09T17:47:02.536Z"
   },
   {
    "duration": 5,
    "start_time": "2021-12-09T17:47:02.541Z"
   },
   {
    "duration": 4,
    "start_time": "2021-12-09T17:47:02.543Z"
   },
   {
    "duration": 4,
    "start_time": "2021-12-09T17:47:02.544Z"
   },
   {
    "duration": 3,
    "start_time": "2021-12-09T17:47:02.546Z"
   },
   {
    "duration": 2,
    "start_time": "2021-12-09T17:47:02.548Z"
   },
   {
    "duration": 57,
    "start_time": "2021-12-09T17:47:07.466Z"
   },
   {
    "duration": 22,
    "start_time": "2021-12-09T17:47:11.567Z"
   },
   {
    "duration": 14,
    "start_time": "2021-12-09T17:47:15.031Z"
   },
   {
    "duration": 14,
    "start_time": "2021-12-09T17:47:27.237Z"
   },
   {
    "duration": 227,
    "start_time": "2021-12-09T17:47:33.734Z"
   },
   {
    "duration": 115,
    "start_time": "2021-12-09T17:47:49.280Z"
   },
   {
    "duration": 270,
    "start_time": "2021-12-09T17:48:22.752Z"
   },
   {
    "duration": 97,
    "start_time": "2021-12-09T17:48:37.643Z"
   },
   {
    "duration": 101,
    "start_time": "2021-12-09T17:48:59.919Z"
   },
   {
    "duration": 2341,
    "start_time": "2021-12-09T17:49:23.192Z"
   },
   {
    "duration": 4507,
    "start_time": "2021-12-09T17:49:53.690Z"
   },
   {
    "duration": 113,
    "start_time": "2021-12-09T17:50:16.921Z"
   },
   {
    "duration": 89,
    "start_time": "2021-12-09T17:50:35.752Z"
   },
   {
    "duration": 89,
    "start_time": "2021-12-09T17:50:41.222Z"
   },
   {
    "duration": 89,
    "start_time": "2021-12-09T17:50:44.312Z"
   },
   {
    "duration": 56,
    "start_time": "2021-12-09T17:50:48.858Z"
   },
   {
    "duration": 22,
    "start_time": "2021-12-09T17:50:48.916Z"
   },
   {
    "duration": 13,
    "start_time": "2021-12-09T17:50:48.940Z"
   },
   {
    "duration": 138,
    "start_time": "2021-12-09T17:50:48.955Z"
   },
   {
    "duration": 4045,
    "start_time": "2021-12-09T17:50:49.095Z"
   },
   {
    "duration": 18,
    "start_time": "2021-12-09T17:50:53.142Z"
   },
   {
    "duration": 39,
    "start_time": "2021-12-09T17:50:53.162Z"
   },
   {
    "duration": 18,
    "start_time": "2021-12-09T17:50:53.203Z"
   },
   {
    "duration": 17,
    "start_time": "2021-12-09T17:50:53.223Z"
   },
   {
    "duration": 17,
    "start_time": "2021-12-09T17:50:53.242Z"
   },
   {
    "duration": 116,
    "start_time": "2021-12-09T17:51:06.720Z"
   },
   {
    "duration": 57,
    "start_time": "2021-12-09T17:59:44.297Z"
   },
   {
    "duration": 242,
    "start_time": "2021-12-09T17:59:53.189Z"
   },
   {
    "duration": 270,
    "start_time": "2021-12-09T18:01:44.296Z"
   },
   {
    "duration": 133,
    "start_time": "2021-12-09T18:02:07.701Z"
   },
   {
    "duration": 131,
    "start_time": "2021-12-09T18:03:18.061Z"
   },
   {
    "duration": 117,
    "start_time": "2021-12-09T18:04:02.517Z"
   },
   {
    "duration": 140,
    "start_time": "2021-12-09T18:06:46.578Z"
   },
   {
    "duration": 141,
    "start_time": "2021-12-09T18:06:56.392Z"
   },
   {
    "duration": 112,
    "start_time": "2021-12-09T18:08:46.946Z"
   },
   {
    "duration": 112,
    "start_time": "2021-12-09T18:08:53.113Z"
   },
   {
    "duration": 113,
    "start_time": "2021-12-09T18:09:03.419Z"
   },
   {
    "duration": 60,
    "start_time": "2021-12-09T18:09:14.273Z"
   },
   {
    "duration": 21,
    "start_time": "2021-12-09T18:09:14.334Z"
   },
   {
    "duration": 12,
    "start_time": "2021-12-09T18:09:14.356Z"
   },
   {
    "duration": 141,
    "start_time": "2021-12-09T18:09:14.369Z"
   },
   {
    "duration": 4096,
    "start_time": "2021-12-09T18:09:14.512Z"
   },
   {
    "duration": 19,
    "start_time": "2021-12-09T18:09:18.610Z"
   },
   {
    "duration": 21,
    "start_time": "2021-12-09T18:09:18.631Z"
   },
   {
    "duration": 38,
    "start_time": "2021-12-09T18:09:18.654Z"
   },
   {
    "duration": 18,
    "start_time": "2021-12-09T18:09:18.695Z"
   },
   {
    "duration": 18,
    "start_time": "2021-12-09T18:09:18.714Z"
   },
   {
    "duration": 111,
    "start_time": "2021-12-09T18:09:43.525Z"
   },
   {
    "duration": 63,
    "start_time": "2021-12-09T18:09:47.336Z"
   },
   {
    "duration": 21,
    "start_time": "2021-12-09T18:09:47.401Z"
   },
   {
    "duration": 11,
    "start_time": "2021-12-09T18:09:47.424Z"
   },
   {
    "duration": 117,
    "start_time": "2021-12-09T18:09:47.437Z"
   },
   {
    "duration": 3841,
    "start_time": "2021-12-09T18:09:47.556Z"
   },
   {
    "duration": 19,
    "start_time": "2021-12-09T18:09:51.399Z"
   },
   {
    "duration": 20,
    "start_time": "2021-12-09T18:09:51.420Z"
   },
   {
    "duration": 18,
    "start_time": "2021-12-09T18:09:51.442Z"
   },
   {
    "duration": 43,
    "start_time": "2021-12-09T18:09:51.463Z"
   },
   {
    "duration": 18,
    "start_time": "2021-12-09T18:09:51.508Z"
   },
   {
    "duration": 117,
    "start_time": "2021-12-09T18:10:00.752Z"
   },
   {
    "duration": 121,
    "start_time": "2021-12-09T18:10:24.433Z"
   },
   {
    "duration": 62,
    "start_time": "2021-12-09T18:10:39.434Z"
   },
   {
    "duration": 22,
    "start_time": "2021-12-09T18:10:39.498Z"
   },
   {
    "duration": 12,
    "start_time": "2021-12-09T18:10:39.522Z"
   },
   {
    "duration": 114,
    "start_time": "2021-12-09T18:10:39.536Z"
   },
   {
    "duration": 3980,
    "start_time": "2021-12-09T18:10:39.652Z"
   },
   {
    "duration": 21,
    "start_time": "2021-12-09T18:10:43.634Z"
   },
   {
    "duration": 42,
    "start_time": "2021-12-09T18:10:43.656Z"
   },
   {
    "duration": 17,
    "start_time": "2021-12-09T18:10:43.701Z"
   },
   {
    "duration": 17,
    "start_time": "2021-12-09T18:10:43.721Z"
   },
   {
    "duration": 17,
    "start_time": "2021-12-09T18:10:43.740Z"
   },
   {
    "duration": 135,
    "start_time": "2021-12-09T18:13:01.256Z"
   },
   {
    "duration": 63,
    "start_time": "2021-12-09T18:13:06.192Z"
   },
   {
    "duration": 23,
    "start_time": "2021-12-09T18:13:06.257Z"
   },
   {
    "duration": 21,
    "start_time": "2021-12-09T18:13:06.282Z"
   },
   {
    "duration": 131,
    "start_time": "2021-12-09T18:13:06.305Z"
   },
   {
    "duration": 4038,
    "start_time": "2021-12-09T18:13:06.438Z"
   },
   {
    "duration": 30,
    "start_time": "2021-12-09T18:13:10.478Z"
   },
   {
    "duration": 21,
    "start_time": "2021-12-09T18:13:10.510Z"
   },
   {
    "duration": 17,
    "start_time": "2021-12-09T18:13:10.534Z"
   },
   {
    "duration": 51,
    "start_time": "2021-12-09T18:13:10.553Z"
   },
   {
    "duration": 17,
    "start_time": "2021-12-09T18:13:10.606Z"
   },
   {
    "duration": 59,
    "start_time": "2021-12-09T18:13:42.796Z"
   },
   {
    "duration": 59,
    "start_time": "2021-12-09T18:13:54.666Z"
   },
   {
    "duration": 114,
    "start_time": "2021-12-09T18:14:03.820Z"
   },
   {
    "duration": 137,
    "start_time": "2021-12-09T18:14:11.870Z"
   },
   {
    "duration": 491,
    "start_time": "2021-12-09T18:14:32.633Z"
   },
   {
    "duration": 146,
    "start_time": "2021-12-09T18:14:46.074Z"
   },
   {
    "duration": 118,
    "start_time": "2021-12-09T18:14:50.235Z"
   },
   {
    "duration": 62,
    "start_time": "2021-12-09T18:14:52.874Z"
   },
   {
    "duration": 23,
    "start_time": "2021-12-09T18:14:52.938Z"
   },
   {
    "duration": 34,
    "start_time": "2021-12-09T18:14:52.964Z"
   },
   {
    "duration": 151,
    "start_time": "2021-12-09T18:14:53.000Z"
   },
   {
    "duration": 4102,
    "start_time": "2021-12-09T18:14:53.153Z"
   },
   {
    "duration": 20,
    "start_time": "2021-12-09T18:14:57.257Z"
   },
   {
    "duration": 22,
    "start_time": "2021-12-09T18:14:57.292Z"
   },
   {
    "duration": 18,
    "start_time": "2021-12-09T18:14:57.315Z"
   },
   {
    "duration": 17,
    "start_time": "2021-12-09T18:14:57.336Z"
   },
   {
    "duration": 48,
    "start_time": "2021-12-09T18:14:57.355Z"
   },
   {
    "duration": 78,
    "start_time": "2021-12-09T18:16:56.473Z"
   },
   {
    "duration": 121,
    "start_time": "2021-12-09T18:17:11.433Z"
   },
   {
    "duration": 143,
    "start_time": "2021-12-09T18:17:35.074Z"
   },
   {
    "duration": 112,
    "start_time": "2021-12-09T18:17:48.816Z"
   },
   {
    "duration": 60,
    "start_time": "2021-12-09T18:17:56.306Z"
   },
   {
    "duration": 21,
    "start_time": "2021-12-09T18:17:56.368Z"
   },
   {
    "duration": 12,
    "start_time": "2021-12-09T18:17:56.392Z"
   },
   {
    "duration": 127,
    "start_time": "2021-12-09T18:17:56.406Z"
   },
   {
    "duration": 4019,
    "start_time": "2021-12-09T18:17:56.534Z"
   },
   {
    "duration": 19,
    "start_time": "2021-12-09T18:18:00.555Z"
   },
   {
    "duration": 34,
    "start_time": "2021-12-09T18:18:00.576Z"
   },
   {
    "duration": 16,
    "start_time": "2021-12-09T18:18:00.612Z"
   },
   {
    "duration": 23,
    "start_time": "2021-12-09T18:18:00.630Z"
   },
   {
    "duration": 36,
    "start_time": "2021-12-09T18:18:00.655Z"
   },
   {
    "duration": 116,
    "start_time": "2021-12-09T18:20:28.433Z"
   },
   {
    "duration": 60,
    "start_time": "2021-12-09T18:20:46.359Z"
   },
   {
    "duration": 25,
    "start_time": "2021-12-09T18:20:46.421Z"
   },
   {
    "duration": 12,
    "start_time": "2021-12-09T18:20:46.447Z"
   },
   {
    "duration": 156,
    "start_time": "2021-12-09T18:20:46.461Z"
   },
   {
    "duration": 4527,
    "start_time": "2021-12-09T18:20:46.619Z"
   },
   {
    "duration": 19,
    "start_time": "2021-12-09T18:20:51.147Z"
   },
   {
    "duration": 41,
    "start_time": "2021-12-09T18:20:51.168Z"
   },
   {
    "duration": 16,
    "start_time": "2021-12-09T18:20:51.211Z"
   },
   {
    "duration": 24,
    "start_time": "2021-12-09T18:20:51.229Z"
   },
   {
    "duration": 45,
    "start_time": "2021-12-09T18:20:51.254Z"
   },
   {
    "duration": 114,
    "start_time": "2021-12-09T18:21:11.123Z"
   },
   {
    "duration": 138,
    "start_time": "2021-12-09T18:21:28.081Z"
   },
   {
    "duration": 131,
    "start_time": "2021-12-09T18:26:07.001Z"
   },
   {
    "duration": 122,
    "start_time": "2021-12-09T18:35:23.851Z"
   },
   {
    "duration": 59,
    "start_time": "2021-12-09T18:35:28.127Z"
   },
   {
    "duration": 20,
    "start_time": "2021-12-09T18:35:28.188Z"
   },
   {
    "duration": 11,
    "start_time": "2021-12-09T18:35:28.210Z"
   },
   {
    "duration": 119,
    "start_time": "2021-12-09T18:35:28.223Z"
   },
   {
    "duration": 4007,
    "start_time": "2021-12-09T18:35:28.344Z"
   },
   {
    "duration": 19,
    "start_time": "2021-12-09T18:35:32.353Z"
   },
   {
    "duration": 36,
    "start_time": "2021-12-09T18:35:32.374Z"
   },
   {
    "duration": 16,
    "start_time": "2021-12-09T18:35:32.412Z"
   },
   {
    "duration": 15,
    "start_time": "2021-12-09T18:35:32.430Z"
   },
   {
    "duration": 16,
    "start_time": "2021-12-09T18:35:32.447Z"
   },
   {
    "duration": 71,
    "start_time": "2021-12-09T20:11:41.636Z"
   },
   {
    "duration": 60,
    "start_time": "2021-12-09T20:11:53.244Z"
   },
   {
    "duration": 23,
    "start_time": "2021-12-09T20:13:25.372Z"
   },
   {
    "duration": 55,
    "start_time": "2021-12-09T20:19:21.131Z"
   },
   {
    "duration": 21,
    "start_time": "2021-12-09T20:19:21.188Z"
   },
   {
    "duration": 32,
    "start_time": "2021-12-09T20:19:21.211Z"
   },
   {
    "duration": 103,
    "start_time": "2021-12-09T20:19:21.245Z"
   },
   {
    "duration": 4480,
    "start_time": "2021-12-09T20:19:21.349Z"
   },
   {
    "duration": 21,
    "start_time": "2021-12-09T20:19:25.831Z"
   },
   {
    "duration": 46,
    "start_time": "2021-12-09T20:19:25.854Z"
   },
   {
    "duration": 19,
    "start_time": "2021-12-09T20:19:25.903Z"
   },
   {
    "duration": 19,
    "start_time": "2021-12-09T20:19:25.924Z"
   },
   {
    "duration": 47,
    "start_time": "2021-12-09T20:19:25.944Z"
   },
   {
    "duration": 58,
    "start_time": "2021-12-09T20:19:28.125Z"
   },
   {
    "duration": 22,
    "start_time": "2021-12-09T20:19:28.185Z"
   },
   {
    "duration": 36,
    "start_time": "2021-12-09T20:19:28.209Z"
   },
   {
    "duration": 122,
    "start_time": "2021-12-09T20:19:28.247Z"
   },
   {
    "duration": 4302,
    "start_time": "2021-12-09T20:19:28.391Z"
   },
   {
    "duration": 21,
    "start_time": "2021-12-09T20:19:32.695Z"
   },
   {
    "duration": 24,
    "start_time": "2021-12-09T20:19:32.718Z"
   },
   {
    "duration": 17,
    "start_time": "2021-12-09T20:19:32.744Z"
   },
   {
    "duration": 53,
    "start_time": "2021-12-09T20:19:32.764Z"
   },
   {
    "duration": 16,
    "start_time": "2021-12-09T20:19:32.819Z"
   },
   {
    "duration": 20,
    "start_time": "2021-12-09T20:20:15.107Z"
   },
   {
    "duration": 22,
    "start_time": "2021-12-09T20:20:25.564Z"
   },
   {
    "duration": 20,
    "start_time": "2021-12-09T20:20:35.426Z"
   },
   {
    "duration": 20,
    "start_time": "2021-12-09T20:20:43.762Z"
   },
   {
    "duration": 806,
    "start_time": "2021-12-09T20:20:53.205Z"
   },
   {
    "duration": 846,
    "start_time": "2021-12-09T20:21:05.642Z"
   },
   {
    "duration": 1331,
    "start_time": "2021-12-09T20:21:09.961Z"
   },
   {
    "duration": 62,
    "start_time": "2021-12-09T20:21:38.471Z"
   },
   {
    "duration": 22,
    "start_time": "2021-12-09T20:21:38.535Z"
   },
   {
    "duration": 37,
    "start_time": "2021-12-09T20:21:38.559Z"
   },
   {
    "duration": 132,
    "start_time": "2021-12-09T20:21:38.599Z"
   },
   {
    "duration": 4527,
    "start_time": "2021-12-09T20:21:38.733Z"
   },
   {
    "duration": 26,
    "start_time": "2021-12-09T20:21:43.295Z"
   },
   {
    "duration": 20,
    "start_time": "2021-12-09T20:21:43.323Z"
   },
   {
    "duration": 50,
    "start_time": "2021-12-09T20:21:43.345Z"
   },
   {
    "duration": 21,
    "start_time": "2021-12-09T20:21:43.397Z"
   },
   {
    "duration": 990,
    "start_time": "2021-12-09T20:21:43.420Z"
   },
   {
    "duration": 115,
    "start_time": "2021-12-09T20:22:23.015Z"
   },
   {
    "duration": 119,
    "start_time": "2021-12-09T20:22:30.944Z"
   },
   {
    "duration": 808,
    "start_time": "2021-12-09T20:26:53.821Z"
   },
   {
    "duration": 838,
    "start_time": "2021-12-09T20:27:26.823Z"
   },
   {
    "duration": 66,
    "start_time": "2021-12-09T20:27:32.137Z"
   },
   {
    "duration": 21,
    "start_time": "2021-12-09T20:27:32.205Z"
   },
   {
    "duration": 12,
    "start_time": "2021-12-09T20:27:32.228Z"
   },
   {
    "duration": 131,
    "start_time": "2021-12-09T20:27:32.242Z"
   },
   {
    "duration": 4496,
    "start_time": "2021-12-09T20:27:32.375Z"
   },
   {
    "duration": 31,
    "start_time": "2021-12-09T20:27:36.873Z"
   },
   {
    "duration": 34,
    "start_time": "2021-12-09T20:27:36.907Z"
   },
   {
    "duration": 19,
    "start_time": "2021-12-09T20:27:36.943Z"
   },
   {
    "duration": 41,
    "start_time": "2021-12-09T20:27:36.963Z"
   },
   {
    "duration": 22,
    "start_time": "2021-12-09T20:27:37.006Z"
   },
   {
    "duration": 925,
    "start_time": "2021-12-10T13:01:16.302Z"
   },
   {
    "duration": 40,
    "start_time": "2021-12-10T13:01:17.231Z"
   },
   {
    "duration": 21,
    "start_time": "2021-12-10T13:01:17.275Z"
   },
   {
    "duration": 193,
    "start_time": "2021-12-10T13:01:17.299Z"
   },
   {
    "duration": 702,
    "start_time": "2021-12-10T13:03:11.546Z"
   },
   {
    "duration": 24,
    "start_time": "2021-12-10T13:03:12.250Z"
   },
   {
    "duration": 14,
    "start_time": "2021-12-10T13:03:12.276Z"
   },
   {
    "duration": 139,
    "start_time": "2021-12-10T13:03:12.292Z"
   },
   {
    "duration": 4766,
    "start_time": "2021-12-10T13:03:12.434Z"
   },
   {
    "duration": 22,
    "start_time": "2021-12-10T13:03:17.202Z"
   },
   {
    "duration": 50,
    "start_time": "2021-12-10T13:03:17.226Z"
   },
   {
    "duration": 21,
    "start_time": "2021-12-10T13:03:17.278Z"
   },
   {
    "duration": 20,
    "start_time": "2021-12-10T13:03:17.302Z"
   },
   {
    "duration": 40,
    "start_time": "2021-12-10T13:03:17.324Z"
   },
   {
    "duration": 1008,
    "start_time": "2021-12-10T17:28:44.366Z"
   },
   {
    "duration": 341,
    "start_time": "2021-12-10T17:28:51.957Z"
   },
   {
    "duration": -75,
    "start_time": "2021-12-10T17:28:52.375Z"
   },
   {
    "duration": -77,
    "start_time": "2021-12-10T17:28:52.378Z"
   },
   {
    "duration": -114,
    "start_time": "2021-12-10T17:28:52.416Z"
   },
   {
    "duration": -115,
    "start_time": "2021-12-10T17:28:52.419Z"
   },
   {
    "duration": -115,
    "start_time": "2021-12-10T17:28:52.420Z"
   },
   {
    "duration": -116,
    "start_time": "2021-12-10T17:28:52.422Z"
   },
   {
    "duration": -117,
    "start_time": "2021-12-10T17:28:52.424Z"
   },
   {
    "duration": -117,
    "start_time": "2021-12-10T17:28:52.425Z"
   },
   {
    "duration": -118,
    "start_time": "2021-12-10T17:28:52.427Z"
   },
   {
    "duration": 79,
    "start_time": "2021-12-10T17:29:06.617Z"
   },
   {
    "duration": 56,
    "start_time": "2021-12-10T17:29:24.557Z"
   },
   {
    "duration": 73,
    "start_time": "2021-12-10T17:29:33.610Z"
   },
   {
    "duration": 93,
    "start_time": "2021-12-10T17:32:30.728Z"
   },
   {
    "duration": 130,
    "start_time": "2021-12-10T17:33:14.338Z"
   },
   {
    "duration": 88,
    "start_time": "2021-12-10T18:37:29.439Z"
   },
   {
    "duration": 34,
    "start_time": "2021-12-10T18:37:36.753Z"
   },
   {
    "duration": 1297,
    "start_time": "2021-12-10T18:38:06.572Z"
   },
   {
    "duration": 1557,
    "start_time": "2021-12-10T18:38:10.478Z"
   },
   {
    "duration": 1310,
    "start_time": "2021-12-10T18:38:18.084Z"
   },
   {
    "duration": 1494,
    "start_time": "2021-12-10T18:38:44.158Z"
   },
   {
    "duration": 99,
    "start_time": "2021-12-10T18:40:01.212Z"
   },
   {
    "duration": 96,
    "start_time": "2021-12-10T18:40:17.346Z"
   },
   {
    "duration": 77,
    "start_time": "2021-12-10T19:38:07.126Z"
   },
   {
    "duration": 21,
    "start_time": "2021-12-10T19:38:07.205Z"
   },
   {
    "duration": 28,
    "start_time": "2021-12-10T19:38:07.228Z"
   },
   {
    "duration": 134,
    "start_time": "2021-12-10T19:38:07.258Z"
   },
   {
    "duration": 4307,
    "start_time": "2021-12-10T19:38:07.394Z"
   },
   {
    "duration": 370,
    "start_time": "2021-12-10T19:38:11.703Z"
   },
   {
    "duration": -143,
    "start_time": "2021-12-10T19:38:12.218Z"
   },
   {
    "duration": -143,
    "start_time": "2021-12-10T19:38:12.219Z"
   },
   {
    "duration": -144,
    "start_time": "2021-12-10T19:38:12.221Z"
   },
   {
    "duration": -145,
    "start_time": "2021-12-10T19:38:12.223Z"
   },
   {
    "duration": 1202,
    "start_time": "2021-12-10T19:39:07.800Z"
   },
   {
    "duration": 564,
    "start_time": "2021-12-10T19:51:39.318Z"
   },
   {
    "duration": 1240,
    "start_time": "2021-12-10T20:00:28.366Z"
   },
   {
    "duration": 274,
    "start_time": "2021-12-10T20:00:42.597Z"
   },
   {
    "duration": 283,
    "start_time": "2021-12-10T20:02:22.037Z"
   },
   {
    "duration": 1657,
    "start_time": "2021-12-10T20:14:04.836Z"
   },
   {
    "duration": 304,
    "start_time": "2021-12-10T20:14:16.238Z"
   },
   {
    "duration": 308,
    "start_time": "2021-12-10T20:14:26.656Z"
   },
   {
    "duration": 82,
    "start_time": "2021-12-10T20:14:46.440Z"
   },
   {
    "duration": 26,
    "start_time": "2021-12-10T20:14:46.524Z"
   },
   {
    "duration": 14,
    "start_time": "2021-12-10T20:14:46.553Z"
   },
   {
    "duration": 125,
    "start_time": "2021-12-10T20:14:46.569Z"
   },
   {
    "duration": 4194,
    "start_time": "2021-12-10T20:14:46.696Z"
   },
   {
    "duration": 445,
    "start_time": "2021-12-10T20:14:50.892Z"
   },
   {
    "duration": -110,
    "start_time": "2021-12-10T20:14:51.449Z"
   },
   {
    "duration": -111,
    "start_time": "2021-12-10T20:14:51.451Z"
   },
   {
    "duration": -112,
    "start_time": "2021-12-10T20:14:51.453Z"
   },
   {
    "duration": -113,
    "start_time": "2021-12-10T20:14:51.455Z"
   },
   {
    "duration": 82,
    "start_time": "2021-12-10T20:15:04.478Z"
   },
   {
    "duration": 23,
    "start_time": "2021-12-10T20:15:04.562Z"
   },
   {
    "duration": 25,
    "start_time": "2021-12-10T20:15:04.587Z"
   },
   {
    "duration": 137,
    "start_time": "2021-12-10T20:15:04.613Z"
   },
   {
    "duration": 4283,
    "start_time": "2021-12-10T20:15:04.752Z"
   },
   {
    "duration": 15,
    "start_time": "2021-12-10T20:15:09.044Z"
   },
   {
    "duration": 50,
    "start_time": "2021-12-10T20:15:09.060Z"
   },
   {
    "duration": 25,
    "start_time": "2021-12-10T20:15:09.112Z"
   },
   {
    "duration": 43,
    "start_time": "2021-12-10T20:15:09.138Z"
   },
   {
    "duration": 19,
    "start_time": "2021-12-10T20:15:09.182Z"
   },
   {
    "duration": 13,
    "start_time": "2021-12-10T20:15:23.478Z"
   },
   {
    "duration": 8,
    "start_time": "2021-12-10T20:15:40.918Z"
   },
   {
    "duration": 13,
    "start_time": "2021-12-10T20:15:50.287Z"
   },
   {
    "duration": 22,
    "start_time": "2021-12-10T20:16:06.000Z"
   },
   {
    "duration": 1211,
    "start_time": "2021-12-10T20:16:28.760Z"
   },
   {
    "duration": 1230,
    "start_time": "2021-12-10T20:16:40.439Z"
   },
   {
    "duration": 76,
    "start_time": "2021-12-10T20:16:48.445Z"
   },
   {
    "duration": 26,
    "start_time": "2021-12-10T20:16:48.523Z"
   },
   {
    "duration": 14,
    "start_time": "2021-12-10T20:16:48.552Z"
   },
   {
    "duration": 123,
    "start_time": "2021-12-10T20:16:48.568Z"
   },
   {
    "duration": 4325,
    "start_time": "2021-12-10T20:16:48.693Z"
   },
   {
    "duration": 27,
    "start_time": "2021-12-10T20:16:53.020Z"
   },
   {
    "duration": 23,
    "start_time": "2021-12-10T20:16:53.049Z"
   },
   {
    "duration": 19,
    "start_time": "2021-12-10T20:16:53.075Z"
   },
   {
    "duration": 61,
    "start_time": "2021-12-10T20:16:53.096Z"
   },
   {
    "duration": 24,
    "start_time": "2021-12-10T20:16:53.159Z"
   },
   {
    "duration": 77,
    "start_time": "2021-12-10T20:17:04.757Z"
   },
   {
    "duration": 22,
    "start_time": "2021-12-10T20:17:04.835Z"
   },
   {
    "duration": 27,
    "start_time": "2021-12-10T20:17:04.859Z"
   },
   {
    "duration": 109,
    "start_time": "2021-12-10T20:17:04.888Z"
   },
   {
    "duration": 4318,
    "start_time": "2021-12-10T20:17:04.999Z"
   },
   {
    "duration": 43,
    "start_time": "2021-12-10T20:17:09.318Z"
   },
   {
    "duration": 31,
    "start_time": "2021-12-10T20:17:09.363Z"
   },
   {
    "duration": 20,
    "start_time": "2021-12-10T20:17:09.397Z"
   },
   {
    "duration": 53,
    "start_time": "2021-12-10T20:17:09.419Z"
   },
   {
    "duration": 19,
    "start_time": "2021-12-10T20:17:09.474Z"
   },
   {
    "duration": 1248,
    "start_time": "2021-12-10T20:25:17.479Z"
   },
   {
    "duration": 74,
    "start_time": "2021-12-10T20:25:27.079Z"
   },
   {
    "duration": 22,
    "start_time": "2021-12-10T20:25:27.155Z"
   },
   {
    "duration": 12,
    "start_time": "2021-12-10T20:25:27.179Z"
   },
   {
    "duration": 121,
    "start_time": "2021-12-10T20:25:27.193Z"
   },
   {
    "duration": 4291,
    "start_time": "2021-12-10T20:25:27.315Z"
   },
   {
    "duration": 39,
    "start_time": "2021-12-10T20:25:31.608Z"
   },
   {
    "duration": 25,
    "start_time": "2021-12-10T20:25:31.648Z"
   },
   {
    "duration": 20,
    "start_time": "2021-12-10T20:25:31.676Z"
   },
   {
    "duration": 49,
    "start_time": "2021-12-10T20:25:31.698Z"
   },
   {
    "duration": 19,
    "start_time": "2021-12-10T20:25:31.749Z"
   },
   {
    "duration": 1380,
    "start_time": "2021-12-10T20:26:18.120Z"
   },
   {
    "duration": 76,
    "start_time": "2021-12-10T20:26:22.392Z"
   },
   {
    "duration": 22,
    "start_time": "2021-12-10T20:26:22.469Z"
   },
   {
    "duration": 15,
    "start_time": "2021-12-10T20:26:22.492Z"
   },
   {
    "duration": 143,
    "start_time": "2021-12-10T20:26:22.509Z"
   },
   {
    "duration": 4332,
    "start_time": "2021-12-10T20:26:22.654Z"
   },
   {
    "duration": 19,
    "start_time": "2021-12-10T20:26:26.988Z"
   },
   {
    "duration": 39,
    "start_time": "2021-12-10T20:26:27.008Z"
   },
   {
    "duration": 18,
    "start_time": "2021-12-10T20:26:27.049Z"
   },
   {
    "duration": 31,
    "start_time": "2021-12-10T20:26:27.070Z"
   },
   {
    "duration": 18,
    "start_time": "2021-12-10T20:26:27.103Z"
   },
   {
    "duration": 77,
    "start_time": "2021-12-10T20:26:50.877Z"
   },
   {
    "duration": 20,
    "start_time": "2021-12-10T20:26:50.956Z"
   },
   {
    "duration": 15,
    "start_time": "2021-12-10T20:26:50.978Z"
   },
   {
    "duration": 117,
    "start_time": "2021-12-10T20:26:50.996Z"
   },
   {
    "duration": 4186,
    "start_time": "2021-12-10T20:26:51.115Z"
   },
   {
    "duration": 18,
    "start_time": "2021-12-10T20:26:55.303Z"
   },
   {
    "duration": 38,
    "start_time": "2021-12-10T20:26:55.323Z"
   },
   {
    "duration": 18,
    "start_time": "2021-12-10T20:26:55.364Z"
   },
   {
    "duration": 32,
    "start_time": "2021-12-10T20:26:55.383Z"
   },
   {
    "duration": 38,
    "start_time": "2021-12-10T20:26:55.417Z"
   },
   {
    "duration": 132,
    "start_time": "2021-12-10T20:28:06.238Z"
   },
   {
    "duration": 87,
    "start_time": "2021-12-10T20:28:23.253Z"
   },
   {
    "duration": 93,
    "start_time": "2021-12-10T20:28:37.877Z"
   },
   {
    "duration": 100,
    "start_time": "2021-12-10T20:28:55.877Z"
   },
   {
    "duration": 577,
    "start_time": "2021-12-10T20:43:58.723Z"
   },
   {
    "duration": 314,
    "start_time": "2021-12-11T15:32:43.555Z"
   },
   {
    "duration": 683,
    "start_time": "2021-12-11T15:32:48.709Z"
   },
   {
    "duration": 21,
    "start_time": "2021-12-11T15:32:49.394Z"
   },
   {
    "duration": 30,
    "start_time": "2021-12-11T15:32:49.417Z"
   },
   {
    "duration": 122,
    "start_time": "2021-12-11T15:32:49.449Z"
   },
   {
    "duration": 4145,
    "start_time": "2021-12-11T15:32:49.573Z"
   },
   {
    "duration": 26,
    "start_time": "2021-12-11T15:32:53.720Z"
   },
   {
    "duration": 49,
    "start_time": "2021-12-11T15:32:53.747Z"
   },
   {
    "duration": 23,
    "start_time": "2021-12-11T15:32:53.798Z"
   },
   {
    "duration": 47,
    "start_time": "2021-12-11T15:32:53.822Z"
   },
   {
    "duration": 18,
    "start_time": "2021-12-11T15:32:53.870Z"
   },
   {
    "duration": 32,
    "start_time": "2021-12-11T15:38:15.146Z"
   },
   {
    "duration": 81,
    "start_time": "2021-12-11T15:38:59.591Z"
   },
   {
    "duration": 22,
    "start_time": "2021-12-11T15:38:59.674Z"
   },
   {
    "duration": 15,
    "start_time": "2021-12-11T15:38:59.698Z"
   },
   {
    "duration": 141,
    "start_time": "2021-12-11T15:38:59.715Z"
   },
   {
    "duration": 5404,
    "start_time": "2021-12-11T15:38:59.858Z"
   },
   {
    "duration": 20,
    "start_time": "2021-12-11T15:39:05.264Z"
   },
   {
    "duration": 27,
    "start_time": "2021-12-11T15:39:05.286Z"
   },
   {
    "duration": 48,
    "start_time": "2021-12-11T15:39:05.316Z"
   },
   {
    "duration": 50,
    "start_time": "2021-12-11T15:39:05.367Z"
   },
   {
    "duration": 43,
    "start_time": "2021-12-11T15:39:05.419Z"
   },
   {
    "duration": 20,
    "start_time": "2021-12-11T15:44:47.431Z"
   },
   {
    "duration": 1392,
    "start_time": "2021-12-11T16:03:05.244Z"
   },
   {
    "duration": 1309,
    "start_time": "2021-12-11T16:03:09.522Z"
   },
   {
    "duration": 76,
    "start_time": "2021-12-11T16:03:15.879Z"
   },
   {
    "duration": 23,
    "start_time": "2021-12-11T16:03:15.957Z"
   },
   {
    "duration": 13,
    "start_time": "2021-12-11T16:03:15.982Z"
   },
   {
    "duration": 159,
    "start_time": "2021-12-11T16:03:15.998Z"
   },
   {
    "duration": 5488,
    "start_time": "2021-12-11T16:03:16.159Z"
   },
   {
    "duration": 25,
    "start_time": "2021-12-11T16:03:21.650Z"
   },
   {
    "duration": 50,
    "start_time": "2021-12-11T16:03:21.677Z"
   },
   {
    "duration": 29,
    "start_time": "2021-12-11T16:03:21.729Z"
   },
   {
    "duration": 31,
    "start_time": "2021-12-11T16:03:21.761Z"
   },
   {
    "duration": 20,
    "start_time": "2021-12-11T16:03:21.794Z"
   },
   {
    "duration": 1245,
    "start_time": "2021-12-11T16:03:58.267Z"
   },
   {
    "duration": 79,
    "start_time": "2021-12-11T16:04:03.451Z"
   },
   {
    "duration": 23,
    "start_time": "2021-12-11T16:04:03.532Z"
   },
   {
    "duration": 12,
    "start_time": "2021-12-11T16:04:03.557Z"
   },
   {
    "duration": 120,
    "start_time": "2021-12-11T16:04:03.571Z"
   },
   {
    "duration": 4823,
    "start_time": "2021-12-11T16:04:03.693Z"
   },
   {
    "duration": 27,
    "start_time": "2021-12-11T16:04:08.518Z"
   },
   {
    "duration": 23,
    "start_time": "2021-12-11T16:04:08.547Z"
   },
   {
    "duration": 19,
    "start_time": "2021-12-11T16:04:08.572Z"
   },
   {
    "duration": 20,
    "start_time": "2021-12-11T16:04:08.593Z"
   },
   {
    "duration": 56,
    "start_time": "2021-12-11T16:04:08.615Z"
   },
   {
    "duration": 2395,
    "start_time": "2021-12-11T16:05:21.076Z"
   },
   {
    "duration": 79,
    "start_time": "2021-12-11T16:05:27.081Z"
   },
   {
    "duration": 22,
    "start_time": "2021-12-11T16:05:27.162Z"
   },
   {
    "duration": 18,
    "start_time": "2021-12-11T16:05:27.186Z"
   },
   {
    "duration": 139,
    "start_time": "2021-12-11T16:05:27.206Z"
   },
   {
    "duration": 5042,
    "start_time": "2021-12-11T16:05:27.348Z"
   },
   {
    "duration": 61,
    "start_time": "2021-12-11T16:05:32.392Z"
   },
   {
    "duration": 21,
    "start_time": "2021-12-11T16:05:32.455Z"
   },
   {
    "duration": 24,
    "start_time": "2021-12-11T16:05:32.479Z"
   },
   {
    "duration": 48,
    "start_time": "2021-12-11T16:05:32.505Z"
   },
   {
    "duration": 21,
    "start_time": "2021-12-11T16:05:32.555Z"
   },
   {
    "duration": 1402,
    "start_time": "2021-12-11T16:07:19.496Z"
   },
   {
    "duration": 79,
    "start_time": "2021-12-11T16:07:24.184Z"
   },
   {
    "duration": 23,
    "start_time": "2021-12-11T16:07:24.265Z"
   },
   {
    "duration": 13,
    "start_time": "2021-12-11T16:07:24.290Z"
   },
   {
    "duration": 145,
    "start_time": "2021-12-11T16:07:24.305Z"
   },
   {
    "duration": 5263,
    "start_time": "2021-12-11T16:07:24.452Z"
   },
   {
    "duration": 40,
    "start_time": "2021-12-11T16:07:29.717Z"
   },
   {
    "duration": 20,
    "start_time": "2021-12-11T16:07:29.759Z"
   },
   {
    "duration": 28,
    "start_time": "2021-12-11T16:07:29.781Z"
   },
   {
    "duration": 33,
    "start_time": "2021-12-11T16:07:29.811Z"
   },
   {
    "duration": 42,
    "start_time": "2021-12-11T16:07:29.846Z"
   },
   {
    "duration": 1436,
    "start_time": "2021-12-11T16:13:55.938Z"
   },
   {
    "duration": 78,
    "start_time": "2021-12-11T16:14:01.158Z"
   },
   {
    "duration": 24,
    "start_time": "2021-12-11T16:14:01.238Z"
   },
   {
    "duration": 14,
    "start_time": "2021-12-11T16:14:01.264Z"
   },
   {
    "duration": 136,
    "start_time": "2021-12-11T16:14:01.281Z"
   },
   {
    "duration": 4860,
    "start_time": "2021-12-11T16:14:01.420Z"
   },
   {
    "duration": 25,
    "start_time": "2021-12-11T16:14:06.282Z"
   },
   {
    "duration": 52,
    "start_time": "2021-12-11T16:14:06.309Z"
   },
   {
    "duration": 28,
    "start_time": "2021-12-11T16:14:06.363Z"
   },
   {
    "duration": 27,
    "start_time": "2021-12-11T16:14:06.394Z"
   },
   {
    "duration": 46,
    "start_time": "2021-12-11T16:14:06.423Z"
   },
   {
    "duration": 1435,
    "start_time": "2021-12-11T16:15:02.129Z"
   },
   {
    "duration": 77,
    "start_time": "2021-12-11T16:15:05.633Z"
   },
   {
    "duration": 32,
    "start_time": "2021-12-11T16:15:05.712Z"
   },
   {
    "duration": 21,
    "start_time": "2021-12-11T16:15:05.747Z"
   },
   {
    "duration": 189,
    "start_time": "2021-12-11T16:15:05.770Z"
   },
   {
    "duration": 4632,
    "start_time": "2021-12-11T16:15:05.962Z"
   },
   {
    "duration": 24,
    "start_time": "2021-12-11T16:15:10.596Z"
   },
   {
    "duration": 37,
    "start_time": "2021-12-11T16:15:10.622Z"
   },
   {
    "duration": 17,
    "start_time": "2021-12-11T16:15:10.662Z"
   },
   {
    "duration": 18,
    "start_time": "2021-12-11T16:15:10.681Z"
   },
   {
    "duration": 25,
    "start_time": "2021-12-11T16:15:10.700Z"
   },
   {
    "duration": 77,
    "start_time": "2021-12-11T16:17:40.914Z"
   },
   {
    "duration": 22,
    "start_time": "2021-12-11T16:17:40.992Z"
   },
   {
    "duration": 13,
    "start_time": "2021-12-11T16:17:41.016Z"
   },
   {
    "duration": 131,
    "start_time": "2021-12-11T16:17:41.031Z"
   },
   {
    "duration": 4465,
    "start_time": "2021-12-11T16:17:41.163Z"
   },
   {
    "duration": 27,
    "start_time": "2021-12-11T16:17:45.630Z"
   },
   {
    "duration": 23,
    "start_time": "2021-12-11T16:17:45.658Z"
   },
   {
    "duration": 19,
    "start_time": "2021-12-11T16:17:45.683Z"
   },
   {
    "duration": 44,
    "start_time": "2021-12-11T16:17:45.704Z"
   },
   {
    "duration": 21,
    "start_time": "2021-12-11T16:17:45.750Z"
   },
   {
    "duration": 114,
    "start_time": "2021-12-11T16:18:12.737Z"
   },
   {
    "duration": 35,
    "start_time": "2021-12-11T16:18:12.853Z"
   },
   {
    "duration": 20,
    "start_time": "2021-12-11T16:18:12.891Z"
   },
   {
    "duration": 149,
    "start_time": "2021-12-11T16:18:12.914Z"
   },
   {
    "duration": 4757,
    "start_time": "2021-12-11T16:18:13.064Z"
   },
   {
    "duration": 31,
    "start_time": "2021-12-11T16:18:17.823Z"
   },
   {
    "duration": 25,
    "start_time": "2021-12-11T16:18:17.856Z"
   },
   {
    "duration": 21,
    "start_time": "2021-12-11T16:18:17.883Z"
   },
   {
    "duration": 49,
    "start_time": "2021-12-11T16:18:17.907Z"
   },
   {
    "duration": 20,
    "start_time": "2021-12-11T16:18:17.958Z"
   },
   {
    "duration": 704,
    "start_time": "2021-12-11T18:20:31.160Z"
   },
   {
    "duration": 23,
    "start_time": "2021-12-11T18:20:31.866Z"
   },
   {
    "duration": 22,
    "start_time": "2021-12-11T18:20:31.891Z"
   },
   {
    "duration": 126,
    "start_time": "2021-12-11T18:20:31.915Z"
   },
   {
    "duration": 4288,
    "start_time": "2021-12-11T18:20:32.042Z"
   },
   {
    "duration": 18,
    "start_time": "2021-12-11T18:20:36.332Z"
   },
   {
    "duration": 28,
    "start_time": "2021-12-11T18:20:36.352Z"
   },
   {
    "duration": 41,
    "start_time": "2021-12-11T18:20:36.383Z"
   },
   {
    "duration": 21,
    "start_time": "2021-12-11T18:20:36.426Z"
   },
   {
    "duration": 18,
    "start_time": "2021-12-11T18:20:36.448Z"
   },
   {
    "duration": 1684,
    "start_time": "2021-12-11T18:30:17.903Z"
   },
   {
    "duration": 1565,
    "start_time": "2021-12-11T18:30:26.199Z"
   },
   {
    "duration": 78,
    "start_time": "2021-12-11T18:30:31.451Z"
   },
   {
    "duration": 22,
    "start_time": "2021-12-11T18:30:31.531Z"
   },
   {
    "duration": 14,
    "start_time": "2021-12-11T18:30:31.555Z"
   },
   {
    "duration": 147,
    "start_time": "2021-12-11T18:30:31.571Z"
   },
   {
    "duration": 4213,
    "start_time": "2021-12-11T18:30:31.720Z"
   },
   {
    "duration": 15,
    "start_time": "2021-12-11T18:30:35.934Z"
   },
   {
    "duration": 23,
    "start_time": "2021-12-11T18:30:35.951Z"
   },
   {
    "duration": 39,
    "start_time": "2021-12-11T18:30:35.976Z"
   },
   {
    "duration": 23,
    "start_time": "2021-12-11T18:30:36.017Z"
   },
   {
    "duration": 19,
    "start_time": "2021-12-11T18:30:36.042Z"
   },
   {
    "duration": 1908,
    "start_time": "2021-12-11T18:30:38.171Z"
   },
   {
    "duration": 1650,
    "start_time": "2021-12-11T18:30:43.617Z"
   },
   {
    "duration": 74,
    "start_time": "2021-12-11T18:30:52.747Z"
   },
   {
    "duration": 22,
    "start_time": "2021-12-11T18:30:52.824Z"
   },
   {
    "duration": 13,
    "start_time": "2021-12-11T18:30:52.849Z"
   },
   {
    "duration": 143,
    "start_time": "2021-12-11T18:30:52.864Z"
   },
   {
    "duration": 4157,
    "start_time": "2021-12-11T18:30:53.009Z"
   },
   {
    "duration": 25,
    "start_time": "2021-12-11T18:30:57.168Z"
   },
   {
    "duration": 21,
    "start_time": "2021-12-11T18:30:57.206Z"
   },
   {
    "duration": 19,
    "start_time": "2021-12-11T18:30:57.229Z"
   },
   {
    "duration": 20,
    "start_time": "2021-12-11T18:30:57.250Z"
   },
   {
    "duration": 43,
    "start_time": "2021-12-11T18:30:57.271Z"
   },
   {
    "duration": 1641,
    "start_time": "2021-12-11T18:31:24.965Z"
   },
   {
    "duration": 80,
    "start_time": "2021-12-11T18:31:29.324Z"
   },
   {
    "duration": 22,
    "start_time": "2021-12-11T18:31:29.406Z"
   },
   {
    "duration": 14,
    "start_time": "2021-12-11T18:31:29.430Z"
   },
   {
    "duration": 127,
    "start_time": "2021-12-11T18:31:29.446Z"
   },
   {
    "duration": 4197,
    "start_time": "2021-12-11T18:31:29.575Z"
   },
   {
    "duration": 38,
    "start_time": "2021-12-11T18:31:33.774Z"
   },
   {
    "duration": 22,
    "start_time": "2021-12-11T18:31:33.814Z"
   },
   {
    "duration": 19,
    "start_time": "2021-12-11T18:31:33.837Z"
   },
   {
    "duration": 19,
    "start_time": "2021-12-11T18:31:33.858Z"
   },
   {
    "duration": 41,
    "start_time": "2021-12-11T18:31:33.879Z"
   },
   {
    "duration": 75,
    "start_time": "2021-12-11T18:31:51.734Z"
   },
   {
    "duration": 20,
    "start_time": "2021-12-11T18:31:51.810Z"
   },
   {
    "duration": 12,
    "start_time": "2021-12-11T18:31:51.832Z"
   },
   {
    "duration": 116,
    "start_time": "2021-12-11T18:31:51.846Z"
   },
   {
    "duration": 4227,
    "start_time": "2021-12-11T18:31:51.964Z"
   },
   {
    "duration": 31,
    "start_time": "2021-12-11T18:31:56.193Z"
   },
   {
    "duration": 26,
    "start_time": "2021-12-11T18:31:56.226Z"
   },
   {
    "duration": 20,
    "start_time": "2021-12-11T18:31:56.254Z"
   },
   {
    "duration": 47,
    "start_time": "2021-12-11T18:31:56.276Z"
   },
   {
    "duration": 19,
    "start_time": "2021-12-11T18:31:56.325Z"
   },
   {
    "duration": 2455,
    "start_time": "2021-12-11T18:38:04.586Z"
   },
   {
    "duration": 80,
    "start_time": "2021-12-11T18:38:09.762Z"
   },
   {
    "duration": 24,
    "start_time": "2021-12-11T18:38:09.845Z"
   },
   {
    "duration": 14,
    "start_time": "2021-12-11T18:38:09.872Z"
   },
   {
    "duration": 156,
    "start_time": "2021-12-11T18:38:09.888Z"
   },
   {
    "duration": 4620,
    "start_time": "2021-12-11T18:38:10.046Z"
   },
   {
    "duration": 40,
    "start_time": "2021-12-11T18:38:14.668Z"
   },
   {
    "duration": 24,
    "start_time": "2021-12-11T18:38:14.709Z"
   },
   {
    "duration": 22,
    "start_time": "2021-12-11T18:38:14.734Z"
   },
   {
    "duration": 20,
    "start_time": "2021-12-11T18:38:14.758Z"
   },
   {
    "duration": 47,
    "start_time": "2021-12-11T18:38:14.779Z"
   },
   {
    "duration": 429,
    "start_time": "2022-05-04T09:28:32.160Z"
   },
   {
    "duration": 20,
    "start_time": "2022-05-04T09:28:32.591Z"
   },
   {
    "duration": 25,
    "start_time": "2022-05-04T09:28:32.613Z"
   },
   {
    "duration": 119,
    "start_time": "2022-05-04T09:28:32.640Z"
   },
   {
    "duration": 4097,
    "start_time": "2022-05-04T09:28:32.760Z"
   },
   {
    "duration": 25,
    "start_time": "2022-05-04T09:28:36.859Z"
   },
   {
    "duration": 24,
    "start_time": "2022-05-04T09:28:36.885Z"
   },
   {
    "duration": 19,
    "start_time": "2022-05-04T09:28:36.924Z"
   },
   {
    "duration": 17,
    "start_time": "2022-05-04T09:28:36.945Z"
   },
   {
    "duration": 17,
    "start_time": "2022-05-04T09:28:36.964Z"
   },
   {
    "duration": 75,
    "start_time": "2022-05-04T09:28:40.605Z"
   },
   {
    "duration": 20,
    "start_time": "2022-05-04T09:28:40.682Z"
   },
   {
    "duration": 28,
    "start_time": "2022-05-04T09:28:40.704Z"
   },
   {
    "duration": 108,
    "start_time": "2022-05-04T09:28:40.734Z"
   },
   {
    "duration": 3855,
    "start_time": "2022-05-04T09:28:40.844Z"
   },
   {
    "duration": 35,
    "start_time": "2022-05-04T09:28:44.701Z"
   },
   {
    "duration": 21,
    "start_time": "2022-05-04T09:28:44.738Z"
   },
   {
    "duration": 17,
    "start_time": "2022-05-04T09:28:44.761Z"
   },
   {
    "duration": 18,
    "start_time": "2022-05-04T09:28:44.779Z"
   },
   {
    "duration": 18,
    "start_time": "2022-05-04T09:28:44.824Z"
   },
   {
    "duration": 2800,
    "start_time": "2022-05-09T11:27:47.142Z"
   },
   {
    "duration": 36,
    "start_time": "2022-05-09T11:27:49.948Z"
   },
   {
    "duration": 38,
    "start_time": "2022-05-09T11:27:49.987Z"
   },
   {
    "duration": 210,
    "start_time": "2022-05-09T11:27:50.030Z"
   },
   {
    "duration": 6166,
    "start_time": "2022-05-09T11:27:50.243Z"
   },
   {
    "duration": 53,
    "start_time": "2022-05-09T11:27:56.412Z"
   },
   {
    "duration": 58,
    "start_time": "2022-05-09T11:27:56.468Z"
   },
   {
    "duration": 29,
    "start_time": "2022-05-09T11:27:56.528Z"
   },
   {
    "duration": 66,
    "start_time": "2022-05-09T11:27:56.560Z"
   },
   {
    "duration": 39,
    "start_time": "2022-05-09T11:27:56.631Z"
   },
   {
    "duration": 717,
    "start_time": "2022-11-06T05:28:37.564Z"
   },
   {
    "duration": 22,
    "start_time": "2022-11-06T05:28:38.283Z"
   },
   {
    "duration": 20,
    "start_time": "2022-11-06T05:28:38.307Z"
   },
   {
    "duration": 126,
    "start_time": "2022-11-06T05:28:38.330Z"
   },
   {
    "duration": 3752,
    "start_time": "2022-11-06T05:28:38.457Z"
   },
   {
    "duration": 35,
    "start_time": "2022-11-06T05:28:42.211Z"
   },
   {
    "duration": 21,
    "start_time": "2022-11-06T05:28:42.247Z"
   },
   {
    "duration": 17,
    "start_time": "2022-11-06T05:28:42.270Z"
   },
   {
    "duration": 17,
    "start_time": "2022-11-06T05:28:42.288Z"
   },
   {
    "duration": 47,
    "start_time": "2022-11-06T05:28:42.307Z"
   }
  ],
  "kernelspec": {
   "display_name": "Python 3",
   "language": "python",
   "name": "python3"
  },
  "language_info": {
   "codemirror_mode": {
    "name": "ipython",
    "version": 3
   },
   "file_extension": ".py",
   "mimetype": "text/x-python",
   "name": "python",
   "nbconvert_exporter": "python",
   "pygments_lexer": "ipython3",
   "version": "3.7.12"
  },
  "toc": {
   "base_numbering": 1,
   "nav_menu": {},
   "number_sections": true,
   "sideBar": true,
   "skip_h1_title": true,
   "title_cell": "Table of Contents",
   "title_sidebar": "Contents",
   "toc_cell": false,
   "toc_position": {},
   "toc_section_display": true,
   "toc_window_display": false
  }
 },
 "nbformat": 4,
 "nbformat_minor": 2
}
